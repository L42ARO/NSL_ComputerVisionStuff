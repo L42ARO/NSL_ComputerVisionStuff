{
 "cells": [
  {
   "cell_type": "markdown",
   "id": "fb5c43fd-f325-421f-90c0-5ab72bae5f9a",
   "metadata": {
    "gradient": {
     "editing": false,
     "id": "fb5c43fd-f325-421f-90c0-5ab72bae5f9a",
     "kernelId": "2cb51c33-f201-4aab-a59f-48fc0b460d40"
    }
   },
   "source": [
    "# CODE BLOCKS TO MANAGE GIT-REPO"
   ]
  },
  {
   "cell_type": "markdown",
   "id": "1ee8fb70-66dd-4f3a-8b7a-5edaf6e6aed1",
   "metadata": {
    "gradient": {
     "editing": false,
     "id": "1ee8fb70-66dd-4f3a-8b7a-5edaf6e6aed1",
     "kernelId": "2cb51c33-f201-4aab-a59f-48fc0b460d40"
    }
   },
   "source": [
    "**PULL**: Run the following code block to pull from the github-repo"
   ]
  },
  {
   "cell_type": "code",
   "execution_count": null,
   "id": "cef717d5-9720-4c00-8671-66ff23d399c8",
   "metadata": {
    "collapsed": true,
    "gradient": {
     "editing": false,
     "execution_count": 2,
     "id": "cef717d5-9720-4c00-8671-66ff23d399c8",
     "kernelId": "2cb51c33-f201-4aab-a59f-48fc0b460d40",
     "source_hidden": false
    }
   },
   "outputs": [
    {
     "name": "stdout",
     "output_type": "stream",
     "text": [
      "Already up to date.\r\n"
     ]
    }
   ],
   "source": [
    "!git fetch\r\n",
    "!git pull"
   ]
  },
  {
   "cell_type": "markdown",
   "id": "098afeb9-bf77-46b9-a2e5-e9fcbde71cc3",
   "metadata": {
    "gradient": {
     "editing": false,
     "id": "098afeb9-bf77-46b9-a2e5-e9fcbde71cc3",
     "kernelId": "2cb51c33-f201-4aab-a59f-48fc0b460d40"
    }
   },
   "source": [
    "**PUSH**: Run the following code to push to the github repo, modify message each push"
   ]
  },
  {
   "cell_type": "code",
   "execution_count": null,
   "id": "220c6cbd-9077-4002-94be-899846f7a6dd",
   "metadata": {
    "collapsed": false,
    "gradient": {
     "editing": false,
     "execution_count": 10,
     "id": "220c6cbd-9077-4002-94be-899846f7a6dd",
     "kernelId": "2cb51c33-f201-4aab-a59f-48fc0b460d40",
     "source_hidden": false
    }
   },
   "outputs": [
    {
     "name": "stdout",
     "output_type": "stream",
     "text": [
      "[main 8373d06] Push test\r\n",
      " 1 file changed, 6 insertions(+), 4 deletions(-)\r\n"
     ]
    },
    {
     "name": "stdout",
     "output_type": "stream",
     "text": [
      "Username for 'https://github.com': "
     ]
    },
    {
     "name": "stdout",
     "output_type": "stream",
     "text": [
      "^C\r\n"
     ]
    }
   ],
   "source": [
    "!git config --global user.name \"L42ARO\"\r\n",
    "!git add .\r\n",
    "!git commit -m 'Push test'\r\n",
    "!git push"
   ]
  },
  {
   "cell_type": "code",
   "execution_count": null,
   "id": "7d689fb2-3c3f-4213-a83b-1e6de6489fa5",
   "metadata": {
    "collapsed": false,
    "gradient": {
     "editing": false,
     "execution_count": 14,
     "id": "7d689fb2-3c3f-4213-a83b-1e6de6489fa5",
     "kernelId": "2cb51c33-f201-4aab-a59f-48fc0b460d40",
     "source_hidden": false
    }
   },
   "outputs": [],
   "source": [
    "!git remote set-url origin git@github.com:L42ARO/NSL_ComputerVisionStuff.git"
   ]
  },
  {
   "cell_type": "code",
   "execution_count": null,
   "id": "902917bf-e20f-46b2-a71e-9b57008a4469",
   "metadata": {
    "collapsed": false,
    "gradient": {
     "editing": false,
     "id": "902917bf-e20f-46b2-a71e-9b57008a4469",
     "kernelId": "2cb51c33-f201-4aab-a59f-48fc0b460d40",
     "source_hidden": false
    }
   },
   "outputs": [],
   "source": []
  }
 ],
 "metadata": {},
 "nbformat": 4,
 "nbformat_minor": 5
}
