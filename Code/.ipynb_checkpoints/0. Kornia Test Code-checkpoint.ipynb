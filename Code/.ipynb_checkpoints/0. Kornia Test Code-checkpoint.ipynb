{
 "cells": [
  {
   "cell_type": "code",
   "execution_count": 1,
   "id": "45a26518",
   "metadata": {},
   "outputs": [
    {
     "name": "stdout",
     "output_type": "stream",
     "text": [
      "Looking in indexes: https://pypi.org/simple, https://pypi.ngc.nvidia.com\n",
      "Collecting git+https://github.com/kornia/kornia\n",
      "  Cloning https://github.com/kornia/kornia to /tmp/pip-req-build-guy4u2p5\n",
      "  Running command git clone -q https://github.com/kornia/kornia /tmp/pip-req-build-guy4u2p5\n",
      "  Resolved https://github.com/kornia/kornia to commit 62f114e7883292ae6bb38874cfaca2d98c13a160\n",
      "  Installing build dependencies ... \u001b[?25ldone\n",
      "\u001b[?25h  Getting requirements to build wheel ... \u001b[?25ldone\n",
      "\u001b[?25h  Installing backend dependencies ... \u001b[?25ldone\n",
      "\u001b[?25h    Preparing wheel metadata ... \u001b[?25ldone\n",
      "\u001b[?25hRequirement already satisfied: packaging in /opt/conda/lib/python3.8/site-packages (from kornia==0.6.3) (21.0)\n",
      "Requirement already satisfied: torch>=1.8.1 in /opt/conda/lib/python3.8/site-packages (from kornia==0.6.3) (1.10.0a0+0aef44c)\n",
      "Requirement already satisfied: typing_extensions in /opt/conda/lib/python3.8/site-packages (from torch>=1.8.1->kornia==0.6.3) (3.10.0.2)\n",
      "Requirement already satisfied: pyparsing>=2.0.2 in /opt/conda/lib/python3.8/site-packages (from packaging->kornia==0.6.3) (2.4.7)\n",
      "Building wheels for collected packages: kornia\n",
      "  Building wheel for kornia (PEP 517) ... \u001b[?25ldone\n",
      "\u001b[?25h  Created wheel for kornia: filename=kornia-0.6.3-py2.py3-none-any.whl size=482336 sha256=7cdbb90a28446fd7170fd83e9ede36a47a8529dec6a0258bd10c14de054d81cb\n",
      "  Stored in directory: /tmp/pip-ephem-wheel-cache-tetpc1ou/wheels/02/f4/b2/476cc71690e79d9d7a3fcdb1b05f7c7a7c7791bcedd4072d3b\n",
      "Successfully built kornia\n",
      "Installing collected packages: kornia\n",
      "Successfully installed kornia-0.6.3\n",
      "\u001b[33mWARNING: Running pip as the 'root' user can result in broken permissions and conflicting behaviour with the system package manager. It is recommended to use a virtual environment instead: https://pip.pypa.io/warnings/venv\u001b[0m\n",
      "Looking in indexes: https://pypi.org/simple, https://pypi.ngc.nvidia.com\n",
      "Collecting kornia_moons\n",
      "  Downloading kornia_moons-0.1.7-py3-none-any.whl (10 kB)\n",
      "Requirement already satisfied: matplotlib in /opt/conda/lib/python3.8/site-packages (from kornia_moons) (3.4.3)\n",
      "Requirement already satisfied: kornia in /opt/conda/lib/python3.8/site-packages (from kornia_moons) (0.6.3)\n",
      "Requirement already satisfied: torch in /opt/conda/lib/python3.8/site-packages (from kornia_moons) (1.10.0a0+0aef44c)\n",
      "Collecting opencv-python\n",
      "  Downloading opencv_python-4.5.5.62-cp36-abi3-manylinux_2_17_x86_64.manylinux2014_x86_64.whl (60.4 MB)\n",
      "\u001b[K     |████████████████████████████████| 60.4 MB 22.5 MB/s eta 0:00:01     |██████████████                  | 26.4 MB 23.9 MB/s eta 0:00:02     |██████████████▋                 | 27.6 MB 23.9 MB/s eta 0:00:02     |███████████████████████▏        | 43.7 MB 23.9 MB/s eta 0:00:01     |███████████████████████████▋    | 52.0 MB 22.5 MB/s eta 0:00:01     |████████████████████████████▎   | 53.5 MB 22.5 MB/s eta 0:00:01     |█████████████████████████████▋  | 55.9 MB 22.5 MB/s eta 0:00:01\n",
      "\u001b[?25hRequirement already satisfied: packaging in /opt/conda/lib/python3.8/site-packages (from kornia->kornia_moons) (21.0)\n",
      "Requirement already satisfied: typing_extensions in /opt/conda/lib/python3.8/site-packages (from torch->kornia_moons) (3.10.0.2)\n",
      "Requirement already satisfied: cycler>=0.10 in /opt/conda/lib/python3.8/site-packages (from matplotlib->kornia_moons) (0.10.0)\n",
      "Requirement already satisfied: numpy>=1.16 in /opt/conda/lib/python3.8/site-packages (from matplotlib->kornia_moons) (1.21.2)\n",
      "Requirement already satisfied: kiwisolver>=1.0.1 in /opt/conda/lib/python3.8/site-packages (from matplotlib->kornia_moons) (1.3.2)\n",
      "Requirement already satisfied: python-dateutil>=2.7 in /opt/conda/lib/python3.8/site-packages (from matplotlib->kornia_moons) (2.8.2)\n",
      "Requirement already satisfied: pillow>=6.2.0 in /opt/conda/lib/python3.8/site-packages (from matplotlib->kornia_moons) (8.2.0)\n",
      "Requirement already satisfied: pyparsing>=2.2.1 in /opt/conda/lib/python3.8/site-packages (from matplotlib->kornia_moons) (2.4.7)\n",
      "Requirement already satisfied: six in /opt/conda/lib/python3.8/site-packages (from cycler>=0.10->matplotlib->kornia_moons) (1.16.0)\n",
      "Installing collected packages: opencv-python, kornia-moons\n",
      "Successfully installed kornia-moons-0.1.7 opencv-python-4.5.5.62\n",
      "\u001b[33mWARNING: Running pip as the 'root' user can result in broken permissions and conflicting behaviour with the system package manager. It is recommended to use a virtual environment instead: https://pip.pypa.io/warnings/venv\u001b[0m\n",
      "Looking in indexes: https://pypi.org/simple, https://pypi.ngc.nvidia.com\n",
      "Requirement already satisfied: opencv-python in /opt/conda/lib/python3.8/site-packages (4.5.5.62)\n",
      "Requirement already satisfied: numpy>=1.14.5 in /opt/conda/lib/python3.8/site-packages (from opencv-python) (1.21.2)\n",
      "\u001b[33mWARNING: Running pip as the 'root' user can result in broken permissions and conflicting behaviour with the system package manager. It is recommended to use a virtual environment instead: https://pip.pypa.io/warnings/venv\u001b[0m\n"
     ]
    }
   ],
   "source": [
    "!pip install git+https://github.com/kornia/kornia\n",
    "!pip install kornia_moons\n",
    "!pip install opencv-python --upgrade"
   ]
  },
  {
   "cell_type": "code",
   "execution_count": null,
   "id": "1f7f2c44",
   "metadata": {},
   "outputs": [],
   "source": [
    "!wget https://github.com/kornia/data/raw/main/matching/kn_church-2.jpg\n",
    "!wget https://github.com/kornia/data/raw/main/matching/kn_church-8.jpg"
   ]
  },
  {
   "cell_type": "code",
   "execution_count": null,
   "id": "8c30b640",
   "metadata": {},
   "outputs": [],
   "source": [
    "import matplotlib.pyplot as plt\n",
    "import cv2\n",
    "import kornia as K\n",
    "import kornia.feature as KF\n",
    "import numpy as np\n",
    "import torch\n",
    "from kornia_moons.feature import *\n",
    "\n",
    "def load_torch_image(fname):\n",
    "    img = K.image_to_tensor(cv2.imread(fname), False).float() /255.\n",
    "    img = K.color.bgr_to_rgb(img)\n",
    "    return img"
   ]
  },
  {
   "cell_type": "code",
   "execution_count": null,
   "id": "ae773794",
   "metadata": {},
   "outputs": [],
   "source": [
    "fname1 = 'kn_church-2.jpg'\n",
    "fname2 = 'kn_church-8.jpg'\n",
    "\n",
    "img1 = load_torch_image(fname1)\n",
    "img2 = load_torch_image(fname2)\n",
    "\n",
    "\n",
    "matcher = KF.LoFTR(pretrained='outdoor')\n",
    "\n",
    "input_dict = {\"image0\": K.color.rgb_to_grayscale(img1), # LofTR works on grayscale images only \n",
    "              \"image1\": K.color.rgb_to_grayscale(img2)}\n",
    "\n",
    "with torch.no_grad():\n",
    "    correspondences = matcher(input_dict)"
   ]
  },
  {
   "cell_type": "code",
   "execution_count": null,
   "id": "5d1d29f3",
   "metadata": {},
   "outputs": [],
   "source": [
    "for k,v in correspondences.items():\n",
    "    print (k)"
   ]
  },
  {
   "cell_type": "code",
   "execution_count": null,
   "id": "2b7ea971",
   "metadata": {},
   "outputs": [],
   "source": [
    "mkpts0 = correspondences['keypoints0'].cpu().numpy()\n",
    "mkpts1 = correspondences['keypoints1'].cpu().numpy()\n",
    "H, inliers = cv2.findFundamentalMat(mkpts0, mkpts1, cv2.USAC_MAGSAC, 0.5, 0.999, 100000)\n",
    "inliers = inliers > 0"
   ]
  },
  {
   "cell_type": "code",
   "execution_count": null,
   "id": "99e154be",
   "metadata": {},
   "outputs": [],
   "source": [
    "draw_LAF_matches(\n",
    "    KF.laf_from_center_scale_ori(torch.from_numpy(mkpts0).view(1,-1, 2),\n",
    "                                torch.ones(mkpts0.shape[0]).view(1,-1, 1, 1),\n",
    "                                torch.ones(mkpts0.shape[0]).view(1,-1, 1)),\n",
    "\n",
    "    KF.laf_from_center_scale_ori(torch.from_numpy(mkpts1).view(1,-1, 2),\n",
    "                                torch.ones(mkpts1.shape[0]).view(1,-1, 1, 1),\n",
    "                                torch.ones(mkpts1.shape[0]).view(1,-1, 1)),\n",
    "    torch.arange(mkpts0.shape[0]).view(-1,1).repeat(1,2),\n",
    "    K.tensor_to_image(img1),\n",
    "    K.tensor_to_image(img2),\n",
    "    inliers,\n",
    "    draw_dict={'inlier_color': (0.2, 1, 0.2),\n",
    "               'tentative_color': None, \n",
    "               'feature_color': (0.2, 0.5, 1), 'vertical': False})"
   ]
  }
 ],
 "metadata": {
  "kernelspec": {
   "display_name": "Python 3 (ipykernel)",
   "language": "python",
   "name": "python3"
  },
  "language_info": {
   "codemirror_mode": {
    "name": "ipython",
    "version": 3
   },
   "file_extension": ".py",
   "mimetype": "text/x-python",
   "name": "python",
   "nbconvert_exporter": "python",
   "pygments_lexer": "ipython3",
   "version": "3.8.12"
  }
 },
 "nbformat": 4,
 "nbformat_minor": 5
}
