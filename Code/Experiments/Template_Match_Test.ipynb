{
 "cells": [
  {
   "cell_type": "markdown",
   "metadata": {
    "gradient": {
     "editing": false,
     "id": "8dfb5e12-ebb2-4a72-804d-d6e925755de9",
     "kernelId": "f7c42b65-bedc-4882-9be3-0e38affbeed4"
    }
   },
   "source": [
    "## TEMPLATE MATCHING TEST CODE"
   ]
  },
  {
   "cell_type": "code",
   "execution_count": null,
   "metadata": {
    "gradient": {
     "editing": false,
     "id": "08c9d4cd-600e-432e-a185-261ab2821f63",
     "kernelId": "f7c42b65-bedc-4882-9be3-0e38affbeed4"
    },
    "id": "R32o7No2QLE2"
   },
   "outputs": [
    {
     "name": "stdout",
     "output_type": "stream",
     "text": [
      "\r",
      "0% [Working]"
     ]
    },
    {
     "name": "stdout",
     "output_type": "stream",
     "text": [
      "\r",
      "            \r",
      "Hit:1 http://archive.ubuntu.com/ubuntu focal InRelease\r\n",
      "\r",
      "0% [Waiting for headers]\r",
      "                        \r",
      "Hit:2 http://security.ubuntu.com/ubuntu focal-security InRelease\r\n",
      "\r",
      "0% [Waiting for headers]"
     ]
    },
    {
     "name": "stdout",
     "output_type": "stream",
     "text": [
      "\r",
      "                        \r",
      "Hit:3 http://archive.ubuntu.com/ubuntu focal-updates InRelease\r\n",
      "\r",
      "                        \r",
      "0% [Working]"
     ]
    },
    {
     "name": "stdout",
     "output_type": "stream",
     "text": [
      "\r",
      "0% [Waiting for headers]\r",
      "                        \r",
      "Hit:4 http://archive.ubuntu.com/ubuntu focal-backports InRelease\r\n",
      "\r",
      "                        \r",
      "0% [Working]"
     ]
    },
    {
     "name": "stdout",
     "output_type": "stream",
     "text": [
      "\r",
      "0% [Working]"
     ]
    },
    {
     "name": "stdout",
     "output_type": "stream",
     "text": [
      "\r",
      "0% [Working]"
     ]
    },
    {
     "name": "stdout",
     "output_type": "stream",
     "text": [
      "\r",
      "20% [Working]\r",
      "             \r",
      "\r",
      "Reading package lists... 0%\r"
     ]
    },
    {
     "name": "stdout",
     "output_type": "stream",
     "text": [
      "\r",
      "Reading package lists... 0%\r"
     ]
    },
    {
     "name": "stdout",
     "output_type": "stream",
     "text": [
      "\r",
      "Reading package lists... 0%\r",
      "\r",
      "Reading package lists... 6%\r",
      "\r",
      "Reading package lists... 6%\r"
     ]
    },
    {
     "name": "stdout",
     "output_type": "stream",
     "text": [
      "\r",
      "Reading package lists... 6%\r",
      "\r",
      "Reading package lists... 6%\r"
     ]
    },
    {
     "name": "stdout",
     "output_type": "stream",
     "text": [
      "\r",
      "Reading package lists... 60%\r",
      "\r",
      "Reading package lists... 60%\r",
      "\r",
      "Reading package lists... 61%\r",
      "\r",
      "Reading package lists... 61%\r"
     ]
    },
    {
     "name": "stdout",
     "output_type": "stream",
     "text": [
      "\r",
      "Reading package lists... 62%\r"
     ]
    },
    {
     "name": "stdout",
     "output_type": "stream",
     "text": [
      "\r",
      "Reading package lists... 70%\r",
      "\r",
      "Reading package lists... 70%\r"
     ]
    },
    {
     "name": "stdout",
     "output_type": "stream",
     "text": [
      "\r",
      "Reading package lists... 76%\r",
      "\r",
      "Reading package lists... 76%\r"
     ]
    },
    {
     "name": "stdout",
     "output_type": "stream",
     "text": [
      "\r",
      "Reading package lists... 81%\r",
      "\r",
      "Reading package lists... 81%\r",
      "\r",
      "Reading package lists... 82%\r",
      "\r",
      "Reading package lists... 82%\r",
      "\r",
      "Reading package lists... 82%\r",
      "\r",
      "Reading package lists... 82%\r",
      "\r",
      "Reading package lists... 82%\r",
      "\r",
      "Reading package lists... 82%\r"
     ]
    },
    {
     "name": "stdout",
     "output_type": "stream",
     "text": [
      "\r",
      "Reading package lists... 89%\r",
      "\r",
      "Reading package lists... 89%\r",
      "\r",
      "Reading package lists... 94%\r",
      "\r",
      "Reading package lists... 94%\r"
     ]
    },
    {
     "name": "stdout",
     "output_type": "stream",
     "text": [
      "\r",
      "Reading package lists... 99%\r",
      "\r",
      "Reading package lists... 99%\r",
      "\r",
      "Reading package lists... 99%\r",
      "\r",
      "Reading package lists... 99%\r",
      "\r",
      "Reading package lists... Done\r",
      "\r\n"
     ]
    },
    {
     "name": "stdout",
     "output_type": "stream",
     "text": [
      "\r",
      "Reading package lists... 0%\r"
     ]
    },
    {
     "name": "stdout",
     "output_type": "stream",
     "text": [
      "\r",
      "Reading package lists... 0%\r"
     ]
    },
    {
     "name": "stdout",
     "output_type": "stream",
     "text": [
      "\r",
      "Reading package lists... 0%\r"
     ]
    },
    {
     "name": "stdout",
     "output_type": "stream",
     "text": [
      "\r",
      "Reading package lists... 6%\r",
      "\r",
      "Reading package lists... 6%\r",
      "\r",
      "Reading package lists... 6%\r",
      "\r",
      "Reading package lists... 6%\r"
     ]
    },
    {
     "name": "stdout",
     "output_type": "stream",
     "text": [
      "\r",
      "Reading package lists... 60%\r",
      "\r",
      "Reading package lists... 60%\r"
     ]
    },
    {
     "name": "stdout",
     "output_type": "stream",
     "text": [
      "\r",
      "Reading package lists... 61%\r",
      "\r",
      "Reading package lists... 61%\r",
      "\r",
      "Reading package lists... 61%\r"
     ]
    },
    {
     "name": "stdout",
     "output_type": "stream",
     "text": [
      "\r",
      "Reading package lists... 70%\r",
      "\r",
      "Reading package lists... 70%\r"
     ]
    },
    {
     "name": "stdout",
     "output_type": "stream",
     "text": [
      "\r",
      "Reading package lists... 76%\r",
      "\r",
      "Reading package lists... 76%\r"
     ]
    },
    {
     "name": "stdout",
     "output_type": "stream",
     "text": [
      "\r",
      "Reading package lists... 81%\r",
      "\r",
      "Reading package lists... 81%\r",
      "\r",
      "Reading package lists... 82%\r",
      "\r",
      "Reading package lists... 82%\r",
      "\r",
      "Reading package lists... 82%\r",
      "\r",
      "Reading package lists... 82%\r"
     ]
    },
    {
     "name": "stdout",
     "output_type": "stream",
     "text": [
      "\r",
      "Reading package lists... 82%\r",
      "\r",
      "Reading package lists... 82%\r",
      "\r",
      "Reading package lists... 89%\r",
      "\r",
      "Reading package lists... 89%\r"
     ]
    },
    {
     "name": "stdout",
     "output_type": "stream",
     "text": [
      "\r",
      "Reading package lists... 94%\r",
      "\r",
      "Reading package lists... 94%\r",
      "\r",
      "Reading package lists... 99%\r",
      "\r",
      "Reading package lists... 99%\r",
      "\r",
      "Reading package lists... 99%\r",
      "\r",
      "Reading package lists... 99%\r",
      "\r",
      "Reading package lists... Done\r",
      "\r\n"
     ]
    },
    {
     "name": "stdout",
     "output_type": "stream",
     "text": [
      "\r",
      "Building dependency tree... 0%\r",
      "\r",
      "Building dependency tree... 0%\r",
      "\r",
      "Building dependency tree... 50%\r",
      "\r",
      "Building dependency tree... 50%\r"
     ]
    },
    {
     "name": "stdout",
     "output_type": "stream",
     "text": [
      "\r",
      "Building dependency tree       \r",
      "\r\n",
      "\r",
      "Reading state information... 0%\r",
      "\r",
      "Reading state information... 0%\r",
      "\r",
      "Reading state information... Done\r",
      "\r\n"
     ]
    },
    {
     "name": "stdout",
     "output_type": "stream",
     "text": [
      "The following additional packages will be installed:\r\n",
      "  libdrm-amdgpu1 libdrm-common libdrm-intel1 libdrm-nouveau2 libdrm-radeon1\r\n",
      "  libdrm2 libelf1 libgl1 libgl1-mesa-dri libglapi-mesa libglvnd0 libglx-mesa0\r\n",
      "  libglx0 libllvm12 libpciaccess0 libsensors-config libsensors5 libvulkan1\r\n",
      "  libwayland-client0 libx11-6 libx11-data libx11-xcb1 libxau6 libxcb-dri2-0\r\n",
      "  libxcb-dri3-0 libxcb-glx0 libxcb-present0 libxcb-randr0 libxcb-shm0\r\n",
      "  libxcb-sync1 libxcb-xfixes0 libxcb1 libxdmcp6 libxext6 libxfixes3\r\n",
      "  libxshmfence1 libxxf86vm1 mesa-vulkan-drivers\r\n",
      "Suggested packages:\r\n",
      "  pciutils lm-sensors\r\n"
     ]
    },
    {
     "name": "stdout",
     "output_type": "stream",
     "text": [
      "The following NEW packages will be installed:\r\n",
      "  libdrm-amdgpu1 libdrm-common libdrm-intel1 libdrm-nouveau2 libdrm-radeon1\r\n",
      "  libdrm2 libelf1 libgl1 libgl1-mesa-dri libgl1-mesa-glx libglapi-mesa\r\n",
      "  libglvnd0 libglx-mesa0 libglx0 libllvm12 libpciaccess0 libsensors-config\r\n",
      "  libsensors5 libvulkan1 libwayland-client0 libx11-6 libx11-data libx11-xcb1\r\n",
      "  libxau6 libxcb-dri2-0 libxcb-dri3-0 libxcb-glx0 libxcb-present0\r\n",
      "  libxcb-randr0 libxcb-shm0 libxcb-sync1 libxcb-xfixes0 libxcb1 libxdmcp6\r\n",
      "  libxext6 libxfixes3 libxshmfence1 libxxf86vm1 mesa-vulkan-drivers\r\n",
      "0 upgraded, 39 newly installed, 0 to remove and 46 not upgraded.\r\n",
      "Need to get 37.2 MB of archives.\r\n",
      "After this operation, 528 MB of additional disk space will be used.\r\n",
      "\u001b[33m\r",
      "0% [Working]\u001b[0m"
     ]
    },
    {
     "name": "stdout",
     "output_type": "stream",
     "text": [
      "\r",
      "            \r",
      "Get:1 http://archive.ubuntu.com/ubuntu focal/main amd64 libelf1 amd64 0.176-1.1build1 [44.0 kB]\r\n",
      "\u001b[33m\r",
      "0% [1 libelf1 12.6 kB/44.0 kB 29%]\u001b[0m"
     ]
    },
    {
     "name": "stdout",
     "output_type": "stream",
     "text": [
      "\u001b[33m\r",
      "                                  \r",
      "1% [Working]\u001b[0m"
     ]
    },
    {
     "name": "stdout",
     "output_type": "stream",
     "text": [
      "\r",
      "            \r",
      "Get:2 http://archive.ubuntu.com/ubuntu focal-updates/main amd64 libdrm-common all 2.4.107-8ubuntu1~20.04.1 [5408 B]\r\n",
      "\u001b[33m\r",
      "1% [2 libdrm-common 5408 B/5408 B 100%]\u001b[0m\u001b[33m\r",
      "                                       \r",
      "1% [Waiting for headers]\u001b[0m\r",
      "                        \r",
      "Get:3 http://archive.ubuntu.com/ubuntu focal-updates/main amd64 libdrm2 amd64 2.4.107-8ubuntu1~20.04.1 [34.1 kB]\r\n",
      "\u001b[33m\r",
      "1% [3 libdrm2 15.3 kB/34.1 kB 45%]\u001b[0m"
     ]
    },
    {
     "name": "stdout",
     "output_type": "stream",
     "text": [
      "\u001b[33m\r",
      "                                  \r",
      "2% [Waiting for headers]\u001b[0m\r",
      "                        \r",
      "Get:4 http://archive.ubuntu.com/ubuntu focal/main amd64 libxau6 amd64 1:1.0.9-0ubuntu1 [7488 B]\r\n",
      "\u001b[33m\r",
      "2% [4 libxau6 7488 B/7488 B 100%]\u001b[0m\u001b[33m\r",
      "                                 \r",
      "2% [Working]\u001b[0m\r",
      "            \r",
      "Get:5 http://archive.ubuntu.com/ubuntu focal/main amd64 libxdmcp6 amd64 1:1.1.3-0ubuntu1 [10.6 kB]\r\n",
      "\u001b[33m\r",
      "2% [5 libxdmcp6 4096 B/10.6 kB 39%]\u001b[0m"
     ]
    },
    {
     "name": "stdout",
     "output_type": "stream",
     "text": [
      "\u001b[33m\r",
      "                                   \r",
      "3% [Waiting for headers]\u001b[0m\r",
      "                        \r",
      "Get:6 http://archive.ubuntu.com/ubuntu focal/main amd64 libxcb1 amd64 1.14-2 [44.7 kB]\r\n",
      "\u001b[33m\r",
      "3% [6 libxcb1 16.2 kB/44.7 kB 36%]\u001b[0m\u001b[33m\r",
      "                                  \r",
      "3% [Waiting for headers]\u001b[0m\r",
      "                        \r",
      "Get:7 http://archive.ubuntu.com/ubuntu focal-updates/main amd64 libx11-data all 2:1.6.9-2ubuntu1.2 [113 kB]\r\n",
      "\u001b[33m\r",
      "3% [7 libx11-data 938 B/113 kB 1%]\u001b[0m"
     ]
    },
    {
     "name": "stdout",
     "output_type": "stream",
     "text": [
      "\u001b[33m\r",
      "                                  \r",
      "4% [Waiting for headers]\u001b[0m\r",
      "                        \r",
      "Get:8 http://archive.ubuntu.com/ubuntu focal-updates/main amd64 libx11-6 amd64 2:1.6.9-2ubuntu1.2 [575 kB]\r\n",
      "\u001b[33m\r",
      "4% [8 libx11-6 5663 B/575 kB 1%]\u001b[0m"
     ]
    },
    {
     "name": "stdout",
     "output_type": "stream",
     "text": [
      "\u001b[33m\r",
      "                                \r",
      "6% [Waiting for headers]\u001b[0m\r",
      "                        \r",
      "Get:9 http://archive.ubuntu.com/ubuntu focal/main amd64 libxext6 amd64 2:1.3.4-0ubuntu1 [29.1 kB]\r\n",
      "\u001b[33m\r",
      "6% [9 libxext6 7126 B/29.1 kB 25%]\u001b[0m"
     ]
    },
    {
     "name": "stdout",
     "output_type": "stream",
     "text": [
      "\u001b[33m\r",
      "                                  \r",
      "6% [Waiting for headers]\u001b[0m\r",
      "                        \r",
      "Get:10 http://archive.ubuntu.com/ubuntu focal-updates/main amd64 libdrm-amdgpu1 amd64 2.4.107-8ubuntu1~20.04.1 [18.4 kB]\r\n",
      "\u001b[33m\r",
      "6% [10 libdrm-amdgpu1 969 B/18.4 kB 5%]\u001b[0m\u001b[33m\r",
      "                                       \r",
      "7% [Waiting for headers]\u001b[0m\r",
      "                        \r",
      "Get:11 http://archive.ubuntu.com/ubuntu focal/main amd64 libpciaccess0 amd64 0.16-0ubuntu1 [17.9 kB]\r\n",
      "\u001b[33m\r",
      "7% [11 libpciaccess0 8012 B/17.9 kB 45%]\u001b[0m\u001b[33m\r",
      "                                        \r",
      "8% [Waiting for headers]\u001b[0m\r",
      "                        \r",
      "Get:12 http://archive.ubuntu.com/ubuntu focal-updates/main amd64 libdrm-intel1 amd64 2.4.107-8ubuntu1~20.04.1 [60.3 kB]\r\n",
      "\u001b[33m\r",
      "8% [12 libdrm-intel1 5247 B/60.3 kB 9%]\u001b[0m\u001b[33m\r",
      "                                       \r",
      "8% [Waiting for headers]\u001b[0m\r",
      "                        \r",
      "Get:13 http://archive.ubuntu.com/ubuntu focal-updates/main amd64 libdrm-nouveau2 amd64 2.4.107-8ubuntu1~20.04.1 [16.6 kB]\r\n",
      "\u001b[33m\r",
      "8% [13 libdrm-nouveau2 5174 B/16.6 kB 31%]\u001b[0m\u001b[33m\r",
      "                                          \r",
      "9% [Waiting for headers]\u001b[0m\r",
      "                        \r",
      "Get:14 http://archive.ubuntu.com/ubuntu focal-updates/main amd64 libdrm-radeon1 amd64 2.4.107-8ubuntu1~20.04.1 [19.7 kB]\r\n",
      "\u001b[33m\r",
      "9% [14 libdrm-radeon1 8941 B/19.7 kB 45%]\u001b[0m\u001b[33m\r",
      "                                         \r",
      "9% [Waiting for headers]\u001b[0m\r",
      "                        \r",
      "Get:15 http://archive.ubuntu.com/ubuntu focal-updates/main amd64 libglapi-mesa amd64 21.2.6-0ubuntu0.1~20.04.1 [27.3 kB]\r\n",
      "\u001b[33m\r",
      "9% [15 libglapi-mesa 13.5 kB/27.3 kB 49%]\u001b[0m\u001b[33m\r",
      "                                         \r",
      "10% [Waiting for headers]\u001b[0m\r",
      "                         \r",
      "Get:16 http://archive.ubuntu.com/ubuntu focal-updates/main amd64 libllvm12 amd64 1:12.0.0-3ubuntu1~20.04.4 [18.8 MB]\r\n",
      "\u001b[33m\r",
      "10% [16 libllvm12 6469 B/18.8 MB 0%]\u001b[0m"
     ]
    },
    {
     "name": "stdout",
     "output_type": "stream",
     "text": [
      "\u001b[33m\r",
      "25% [16 libllvm12 7124 kB/18.8 MB 38%]\u001b[0m"
     ]
    },
    {
     "name": "stdout",
     "output_type": "stream",
     "text": [
      "\u001b[33m\r",
      "50% [16 libllvm12 18.4 MB/18.8 MB 98%]\u001b[0m"
     ]
    },
    {
     "name": "stdout",
     "output_type": "stream",
     "text": [
      "\u001b[33m\r",
      "50% [16 libllvm12 18.8 MB/18.8 MB 100%]\u001b[0m"
     ]
    },
    {
     "name": "stdout",
     "output_type": "stream",
     "text": [
      "\u001b[33m\r",
      "50% [16 libllvm12 18.8 MB/18.8 MB 100%]\u001b[0m"
     ]
    },
    {
     "name": "stdout",
     "output_type": "stream",
     "text": [
      "\u001b[33m\r",
      "                                       \r",
      "51% [Waiting for headers]\u001b[0m\r",
      "                         \r",
      "Get:17 http://archive.ubuntu.com/ubuntu focal/main amd64 libsensors-config all 1:3.6.0-2ubuntu1 [6092 B]\r\n",
      "\u001b[33m\r",
      "51% [17 libsensors-config 6092 B/6092 B 100%]\u001b[0m\u001b[33m\r",
      "                                             \r",
      "51% [Working]\u001b[0m\r",
      "             \r",
      "Get:18 http://archive.ubuntu.com/ubuntu focal/main amd64 libsensors5 amd64 1:3.6.0-2ubuntu1 [27.4 kB]\r\n",
      "\u001b[33m\r",
      "51% [18 libsensors5 0 B/27.4 kB 0%]\u001b[0m\u001b[33m\r",
      "                                   \r",
      "52% [Waiting for headers]\u001b[0m\r",
      "                         \r",
      "Get:19 http://archive.ubuntu.com/ubuntu focal/main amd64 libvulkan1 amd64 1.2.131.2-1 [93.3 kB]\r\n",
      "\u001b[33m\r",
      "52% [19 libvulkan1 8192 B/93.3 kB 9%]\u001b[0m\u001b[33m\r",
      "                                     \r",
      "53% [Waiting for headers]\u001b[0m\r",
      "                         \r",
      "Get:20 http://archive.ubuntu.com/ubuntu focal-updates/main amd64 libgl1-mesa-dri amd64 21.2.6-0ubuntu0.1~20.04.1 [11.0 MB]\r\n",
      "\u001b[33m\r",
      "53% [20 libgl1-mesa-dri 0 B/11.0 MB 0%]\u001b[0m"
     ]
    },
    {
     "name": "stdout",
     "output_type": "stream",
     "text": [
      "\u001b[33m\r",
      "76% [20 libgl1-mesa-dri 11.0 MB/11.0 MB 100%]\u001b[0m"
     ]
    },
    {
     "name": "stdout",
     "output_type": "stream",
     "text": [
      "\u001b[33m\r",
      "                                             \r",
      "77% [Waiting for headers]\u001b[0m\r",
      "                         \r",
      "Get:21 http://archive.ubuntu.com/ubuntu focal-updates/main amd64 libglvnd0 amd64 1.3.2-1~ubuntu0.20.04.1 [51.4 kB]\r\n",
      "\u001b[33m\r",
      "77% [21 libglvnd0 2014 B/51.4 kB 4%]\u001b[0m\u001b[33m\r",
      "                                    \r",
      "77% [Working]\u001b[0m\r",
      "             \r",
      "Get:22 http://archive.ubuntu.com/ubuntu focal-updates/main amd64 libx11-xcb1 amd64 2:1.6.9-2ubuntu1.2 [9372 B]\r\n",
      "\u001b[33m\r",
      "77% [22 libx11-xcb1 0 B/9372 B 0%]\u001b[0m\u001b[33m\r",
      "                                  \r",
      "78% [Waiting for headers]\u001b[0m\r",
      "                         \r",
      "Get:23 http://archive.ubuntu.com/ubuntu focal/main amd64 libxcb-dri2-0 amd64 1.14-2 [6920 B]\r\n",
      "\u001b[33m\r",
      "78% [23 libxcb-dri2-0 6920 B/6920 B 100%]\u001b[0m\u001b[33m\r",
      "                                         \r",
      "79% [Working]\u001b[0m\r",
      "             \r",
      "Get:24 http://archive.ubuntu.com/ubuntu focal/main amd64 libxcb-dri3-0 amd64 1.14-2 [6552 B]\r\n",
      "\u001b[33m\r",
      "79% [24 libxcb-dri3-0 0 B/6552 B 0%]\u001b[0m\u001b[33m\r",
      "                                    \r",
      "79% [Waiting for headers]\u001b[0m\r",
      "                         \r",
      "Get:25 http://archive.ubuntu.com/ubuntu focal/main amd64 libxcb-glx0 amd64 1.14-2 [22.1 kB]\r\n",
      "\u001b[33m\r",
      "79% [25 libxcb-glx0 22.1 kB/22.1 kB 100%]\u001b[0m\u001b[33m\r",
      "                                         \r",
      "80% [Working]\u001b[0m\r",
      "             \r",
      "Get:26 http://archive.ubuntu.com/ubuntu focal/main amd64 libxcb-present0 amd64 1.14-2 [5560 B]\r\n",
      "\u001b[33m\r",
      "80% [26 libxcb-present0 4096 B/5560 B 74%]\u001b[0m\u001b[33m\r",
      "                                          \r",
      "80% [Working]\u001b[0m\r",
      "             \r",
      "Get:27 http://archive.ubuntu.com/ubuntu focal/main amd64 libxcb-shm0 amd64 1.14-2 [5584 B]\r\n",
      "\u001b[33m\r",
      "80% [27 libxcb-shm0 5584 B/5584 B 100%]\u001b[0m\u001b[33m\r",
      "                                       \r",
      "81% [Working]\u001b[0m\r",
      "             \r",
      "Get:28 http://archive.ubuntu.com/ubuntu focal/main amd64 libxcb-sync1 amd64 1.14-2 [8884 B]\r\n",
      "\u001b[33m\r",
      "81% [28 libxcb-sync1 4096 B/8884 B 46%]\u001b[0m\u001b[33m\r",
      "                                       \r",
      "81% [Working]\u001b[0m\r",
      "             \r",
      "Get:29 http://archive.ubuntu.com/ubuntu focal/main amd64 libxcb-xfixes0 amd64 1.14-2 [9296 B]\r\n",
      "\u001b[33m\r",
      "81% [29 libxcb-xfixes0 9296 B/9296 B 100%]\u001b[0m\u001b[33m\r",
      "                                          \r",
      "82% [Working]\u001b[0m"
     ]
    },
    {
     "name": "stdout",
     "output_type": "stream",
     "text": [
      "\r",
      "             \r",
      "Get:30 http://archive.ubuntu.com/ubuntu focal/main amd64 libxfixes3 amd64 1:5.0.3-2 [10.9 kB]\r\n",
      "\u001b[33m\r",
      "82% [30 libxfixes3 10.9 kB/10.9 kB 100%]\u001b[0m"
     ]
    },
    {
     "name": "stdout",
     "output_type": "stream",
     "text": [
      "\u001b[33m\r",
      "                                        \r",
      "82% [Working]\u001b[0m\r",
      "             \r",
      "Get:31 http://archive.ubuntu.com/ubuntu focal/main amd64 libxshmfence1 amd64 1.3-1 [5028 B]\r\n",
      "\u001b[33m\r",
      "82% [31 libxshmfence1 5028 B/5028 B 100%]\u001b[0m\u001b[33m\r",
      "                                         \r",
      "83% [Waiting for headers]\u001b[0m"
     ]
    },
    {
     "name": "stdout",
     "output_type": "stream",
     "text": [
      "\r",
      "                         \r",
      "Get:32 http://archive.ubuntu.com/ubuntu focal/main amd64 libxxf86vm1 amd64 1:1.1.4-1build1 [10.2 kB]\r\n",
      "\u001b[33m\r",
      "83% [32 libxxf86vm1 10.2 kB/10.2 kB 100%]\u001b[0m\u001b[33m\r",
      "                                         \r",
      "83% [Waiting for headers]\u001b[0m\r",
      "                         \r",
      "Get:33 http://archive.ubuntu.com/ubuntu focal-updates/main amd64 libglx-mesa0 amd64 21.2.6-0ubuntu0.1~20.04.1 [137 kB]\r\n",
      "\u001b[33m\r",
      "83% [33 libglx-mesa0 22.9 kB/137 kB 17%]\u001b[0m\u001b[33m\r",
      "                                        \r",
      "84% [Waiting for headers]\u001b[0m\r",
      "                         \r",
      "Get:34 http://archive.ubuntu.com/ubuntu focal-updates/main amd64 libglx0 amd64 1.3.2-1~ubuntu0.20.04.1 [32.6 kB]\r\n",
      "\u001b[33m\r",
      "84% [34 libglx0 19.8 kB/32.6 kB 61%]\u001b[0m\u001b[33m\r",
      "                                    \r",
      "85% [Waiting for headers]\u001b[0m\r",
      "                         \r",
      "Get:35 http://archive.ubuntu.com/ubuntu focal-updates/main amd64 libgl1 amd64 1.3.2-1~ubuntu0.20.04.1 [86.9 kB]\r\n",
      "\u001b[33m\r",
      "85% [35 libgl1 10.1 kB/86.9 kB 12%]\u001b[0m\u001b[33m\r",
      "                                   \r",
      "85% [Working]\u001b[0m\r",
      "             \r",
      "Get:36 http://archive.ubuntu.com/ubuntu focal-updates/main amd64 libgl1-mesa-glx amd64 21.2.6-0ubuntu0.1~20.04.1 [5536 B]\r\n",
      "\u001b[33m\r",
      "85% [36 libgl1-mesa-glx 5536 B/5536 B 100%]\u001b[0m\u001b[33m\r",
      "                                           \r",
      "86% [Waiting for headers]\u001b[0m\r",
      "                         \r",
      "Get:37 http://archive.ubuntu.com/ubuntu focal/main amd64 libwayland-client0 amd64 1.18.0-1 [23.9 kB]\r\n",
      "\u001b[33m\r",
      "86% [37 libwayland-client0 0 B/23.9 kB 0%]\u001b[0m\u001b[33m\r",
      "                                          \r",
      "86% [Working]\u001b[0m\r",
      "             \r",
      "Get:38 http://archive.ubuntu.com/ubuntu focal/main amd64 libxcb-randr0 amd64 1.14-2 [16.3 kB]\r\n",
      "\u001b[33m\r",
      "86% [38 libxcb-randr0 0 B/16.3 kB 0%]\u001b[0m\u001b[33m\r",
      "                                     \r",
      "87% [Waiting for headers]\u001b[0m\r",
      "                         \r",
      "Get:39 http://archive.ubuntu.com/ubuntu focal-updates/main amd64 mesa-vulkan-drivers amd64 21.2.6-0ubuntu0.1~20.04.1 [5784 kB]\r\n",
      "\u001b[33m\r",
      "87% [39 mesa-vulkan-drivers 1906 B/5784 kB 0%]\u001b[0m"
     ]
    },
    {
     "name": "stdout",
     "output_type": "stream",
     "text": [
      "\u001b[33m\r",
      "99% [39 mesa-vulkan-drivers 5784 kB/5784 kB 100%]\u001b[0m"
     ]
    },
    {
     "name": "stdout",
     "output_type": "stream",
     "text": [
      "\u001b[33m\r",
      "                                                 \r",
      "100% [Working]\u001b[0m\r",
      "              \r",
      "Fetched 37.2 MB in 5s (7395 kB/s)\r\n"
     ]
    },
    {
     "name": "stdout",
     "output_type": "stream",
     "text": [
      "debconf: unable to initialize frontend: Dialog\r\n",
      "debconf: (No usable dialog-like program is installed, so the dialog based frontend cannot be used. at /usr/share/perl5/Debconf/FrontEnd/Dialog.pm line 76, <> line 39.)\r\n",
      "debconf: falling back to frontend: Readline\r\n"
     ]
    },
    {
     "name": "stdout",
     "output_type": "stream",
     "text": [
      "\r",
      "Extracting templates from packages: 76%"
     ]
    },
    {
     "name": "stdout",
     "output_type": "stream",
     "text": [
      "\r",
      "Extracting templates from packages: 100%\r\n"
     ]
    },
    {
     "name": "stdout",
     "output_type": "stream",
     "text": [
      "\n",
      "\u001b7\u001b[0;23r\u001b8\u001b[1A"
     ]
    },
    {
     "name": "stdout",
     "output_type": "stream",
     "text": [
      "Selecting previously unselected package libelf1:amd64.\r\n",
      "(Reading database ... \r",
      "(Reading database ... 5%\r",
      "(Reading database ... 10%\r",
      "(Reading database ... 15%\r",
      "(Reading database ... 20%\r",
      "(Reading database ... 25%\r",
      "(Reading database ... 30%\r",
      "(Reading database ... 35%\r",
      "(Reading database ... 40%\r",
      "(Reading database ... 45%\r",
      "(Reading database ... 50%\r",
      "(Reading database ... 55%\r",
      "(Reading database ... 60%\r",
      "(Reading database ... 65%\r",
      "(Reading database ... 70%\r",
      "(Reading database ... 75%\r",
      "(Reading database ... 80%\r",
      "(Reading database ... 85%\r",
      "(Reading database ... 90%\r"
     ]
    },
    {
     "name": "stdout",
     "output_type": "stream",
     "text": [
      "(Reading database ... 95%\r",
      "(Reading database ... 100%\r",
      "(Reading database ... 35114 files and directories currently installed.)\r\n",
      "Preparing to unpack .../00-libelf1_0.176-1.1build1_amd64.deb ...\r\n",
      "\u001b7\u001b[24;0f\u001b[42m\u001b[30mProgress: [  0%]\u001b[49m\u001b[39m [..........................................................] \u001b8Unpacking libelf1:amd64 (0.176-1.1build1) ...\r\n"
     ]
    },
    {
     "name": "stdout",
     "output_type": "stream",
     "text": [
      "\u001b7\u001b[24;0f\u001b[42m\u001b[30mProgress: [  1%]\u001b[49m\u001b[39m [..........................................................] \u001b8Selecting previously unselected package libdrm-common.\r\n",
      "Preparing to unpack .../01-libdrm-common_2.4.107-8ubuntu1~20.04.1_all.deb ...\r\n",
      "Unpacking libdrm-common (2.4.107-8ubuntu1~20.04.1) ...\r\n"
     ]
    },
    {
     "name": "stdout",
     "output_type": "stream",
     "text": [
      "\u001b7\u001b[24;0f\u001b[42m\u001b[30mProgress: [  3%]\u001b[49m\u001b[39m [#.........................................................] \u001b8Selecting previously unselected package libdrm2:amd64.\r\n",
      "Preparing to unpack .../02-libdrm2_2.4.107-8ubuntu1~20.04.1_amd64.deb ...\r\n",
      "\u001b7\u001b[24;0f\u001b[42m\u001b[30mProgress: [  3%]\u001b[49m\u001b[39m [#.........................................................] \u001b8Unpacking libdrm2:amd64 (2.4.107-8ubuntu1~20.04.1) ...\r\n"
     ]
    },
    {
     "name": "stdout",
     "output_type": "stream",
     "text": [
      "Selecting previously unselected package libxau6:amd64.\r\n",
      "Preparing to unpack .../03-libxau6_1%3a1.0.9-0ubuntu1_amd64.deb ...\r\n",
      "\u001b7\u001b[24;0f\u001b[42m\u001b[30mProgress: [  4%]\u001b[49m\u001b[39m [##........................................................] \u001b8Unpacking libxau6:amd64 (1:1.0.9-0ubuntu1) ...\r\n",
      "\u001b7\u001b[24;0f\u001b[42m\u001b[30mProgress: [  5%]\u001b[49m\u001b[39m [##........................................................] \u001b8"
     ]
    },
    {
     "name": "stdout",
     "output_type": "stream",
     "text": [
      "Selecting previously unselected package libxdmcp6:amd64.\r\n",
      "Preparing to unpack .../04-libxdmcp6_1%3a1.1.3-0ubuntu1_amd64.deb ...\r\n"
     ]
    },
    {
     "name": "stdout",
     "output_type": "stream",
     "text": [
      "Unpacking libxdmcp6:amd64 (1:1.1.3-0ubuntu1) ...\r\n"
     ]
    },
    {
     "name": "stdout",
     "output_type": "stream",
     "text": [
      "\u001b7\u001b[24;0f\u001b[42m\u001b[30mProgress: [  6%]\u001b[49m\u001b[39m [###.......................................................] \u001b8"
     ]
    },
    {
     "name": "stdout",
     "output_type": "stream",
     "text": [
      "Selecting previously unselected package libxcb1:amd64.\r\n",
      "Preparing to unpack .../05-libxcb1_1.14-2_amd64.deb ...\r\n",
      "\u001b7\u001b[24;0f\u001b[42m\u001b[30mProgress: [  7%]\u001b[49m\u001b[39m [####......................................................] \u001b8Unpacking libxcb1:amd64 (1.14-2) ...\r\n"
     ]
    },
    {
     "name": "stdout",
     "output_type": "stream",
     "text": [
      "Selecting previously unselected package libx11-data.\r\n",
      "Preparing to unpack .../06-libx11-data_2%3a1.6.9-2ubuntu1.2_all.deb ...\r\n",
      "\u001b7\u001b[24;0f\u001b[42m\u001b[30mProgress: [  8%]\u001b[49m\u001b[39m [####......................................................] \u001b8"
     ]
    },
    {
     "name": "stdout",
     "output_type": "stream",
     "text": [
      "Unpacking libx11-data (2:1.6.9-2ubuntu1.2) ...\r\n"
     ]
    },
    {
     "name": "stdout",
     "output_type": "stream",
     "text": [
      "Selecting previously unselected package libx11-6:amd64.\r\n",
      "Preparing to unpack .../07-libx11-6_2%3a1.6.9-2ubuntu1.2_amd64.deb ...\r\n",
      "\u001b7\u001b[24;0f\u001b[42m\u001b[30mProgress: [ 10%]\u001b[49m\u001b[39m [#####.....................................................] \u001b8Unpacking libx11-6:amd64 (2:1.6.9-2ubuntu1.2) ...\r\n"
     ]
    },
    {
     "name": "stdout",
     "output_type": "stream",
     "text": [
      "\u001b7\u001b[24;0f\u001b[42m\u001b[30mProgress: [ 10%]\u001b[49m\u001b[39m [#####.....................................................] \u001b8"
     ]
    },
    {
     "name": "stdout",
     "output_type": "stream",
     "text": [
      "Selecting previously unselected package libxext6:amd64.\r\n",
      "Preparing to unpack .../08-libxext6_2%3a1.3.4-0ubuntu1_amd64.deb ...\r\n",
      "Unpacking libxext6:amd64 (2:1.3.4-0ubuntu1) ...\r\n"
     ]
    },
    {
     "name": "stdout",
     "output_type": "stream",
     "text": [
      "\u001b7\u001b[24;0f\u001b[42m\u001b[30mProgress: [ 11%]\u001b[49m\u001b[39m [######....................................................] \u001b8"
     ]
    },
    {
     "name": "stdout",
     "output_type": "stream",
     "text": [
      "Selecting previously unselected package libdrm-amdgpu1:amd64.\r\n",
      "Preparing to unpack .../09-libdrm-amdgpu1_2.4.107-8ubuntu1~20.04.1_amd64.deb ...\r\n",
      "\u001b7\u001b[24;0f\u001b[42m\u001b[30mProgress: [ 12%]\u001b[49m\u001b[39m [#######...................................................] \u001b8"
     ]
    },
    {
     "name": "stdout",
     "output_type": "stream",
     "text": [
      "Unpacking libdrm-amdgpu1:amd64 (2.4.107-8ubuntu1~20.04.1) ...\r\n"
     ]
    },
    {
     "name": "stdout",
     "output_type": "stream",
     "text": [
      "Selecting previously unselected package libpciaccess0:amd64.\r\n"
     ]
    },
    {
     "name": "stdout",
     "output_type": "stream",
     "text": [
      "Preparing to unpack .../10-libpciaccess0_0.16-0ubuntu1_amd64.deb ...\r\n",
      "\u001b7\u001b[24;0f\u001b[42m\u001b[30mProgress: [ 13%]\u001b[49m\u001b[39m [#######...................................................] \u001b8Unpacking libpciaccess0:amd64 (0.16-0ubuntu1) ...\r\n",
      "\u001b7\u001b[24;0f\u001b[42m\u001b[30mProgress: [ 14%]\u001b[49m\u001b[39m [########..................................................] \u001b8Selecting previously unselected package libdrm-intel1:amd64.\r\n",
      "Preparing to unpack .../11-libdrm-intel1_2.4.107-8ubuntu1~20.04.1_amd64.deb ...\r\n",
      "Unpacking libdrm-intel1:amd64 (2.4.107-8ubuntu1~20.04.1) ...\r\n"
     ]
    },
    {
     "name": "stdout",
     "output_type": "stream",
     "text": [
      "\u001b7\u001b[24;0f\u001b[42m\u001b[30mProgress: [ 15%]\u001b[49m\u001b[39m [########..................................................] \u001b8Selecting previously unselected package libdrm-nouveau2:amd64.\r\n",
      "Preparing to unpack .../12-libdrm-nouveau2_2.4.107-8ubuntu1~20.04.1_amd64.deb ...\r\n",
      "Unpacking libdrm-nouveau2:amd64 (2.4.107-8ubuntu1~20.04.1) ...\r\n",
      "\u001b7\u001b[24;0f\u001b[42m\u001b[30mProgress: [ 17%]\u001b[49m\u001b[39m [#########.................................................] \u001b8"
     ]
    },
    {
     "name": "stdout",
     "output_type": "stream",
     "text": [
      "Selecting previously unselected package libdrm-radeon1:amd64.\r\n",
      "Preparing to unpack .../13-libdrm-radeon1_2.4.107-8ubuntu1~20.04.1_amd64.deb ...\r\n",
      "\u001b7\u001b[24;0f\u001b[42m\u001b[30mProgress: [ 17%]\u001b[49m\u001b[39m [#########.................................................] \u001b8Unpacking libdrm-radeon1:amd64 (2.4.107-8ubuntu1~20.04.1) ...\r\n"
     ]
    },
    {
     "name": "stdout",
     "output_type": "stream",
     "text": [
      "Selecting previously unselected package libglapi-mesa:amd64.\r\n",
      "Preparing to unpack .../14-libglapi-mesa_21.2.6-0ubuntu0.1~20.04.1_amd64.deb ...\r\n",
      "\u001b7\u001b[24;0f\u001b[42m\u001b[30mProgress: [ 18%]\u001b[49m\u001b[39m [##########................................................] \u001b8Unpacking libglapi-mesa:amd64 (21.2.6-0ubuntu0.1~20.04.1) ...\r\n"
     ]
    },
    {
     "name": "stdout",
     "output_type": "stream",
     "text": [
      "\u001b7\u001b[24;0f\u001b[42m\u001b[30mProgress: [ 19%]\u001b[49m\u001b[39m [###########...............................................] \u001b8"
     ]
    },
    {
     "name": "stdout",
     "output_type": "stream",
     "text": [
      "Selecting previously unselected package libllvm12:amd64.\r\n",
      "Preparing to unpack .../15-libllvm12_1%3a12.0.0-3ubuntu1~20.04.4_amd64.deb ...\r\n"
     ]
    },
    {
     "name": "stdout",
     "output_type": "stream",
     "text": [
      "Unpacking libllvm12:amd64 (1:12.0.0-3ubuntu1~20.04.4) ...\r\n"
     ]
    },
    {
     "name": "stdout",
     "output_type": "stream",
     "text": [
      "\u001b7\u001b[24;0f\u001b[42m\u001b[30mProgress: [ 20%]\u001b[49m\u001b[39m [###########...............................................] \u001b8"
     ]
    },
    {
     "name": "stdout",
     "output_type": "stream",
     "text": [
      "Selecting previously unselected package libsensors-config.\r\n",
      "Preparing to unpack .../16-libsensors-config_1%3a3.6.0-2ubuntu1_all.deb ...\r\n",
      "\u001b7\u001b[24;0f\u001b[42m\u001b[30mProgress: [ 21%]\u001b[49m\u001b[39m [############..............................................] \u001b8Unpacking libsensors-config (1:3.6.0-2ubuntu1) ...\r\n"
     ]
    },
    {
     "name": "stdout",
     "output_type": "stream",
     "text": [
      "Selecting previously unselected package libsensors5:amd64.\r\n",
      "Preparing to unpack .../17-libsensors5_1%3a3.6.0-2ubuntu1_amd64.deb ...\r\n",
      "\u001b7\u001b[24;0f\u001b[42m\u001b[30mProgress: [ 22%]\u001b[49m\u001b[39m [############..............................................] \u001b8Unpacking libsensors5:amd64 (1:3.6.0-2ubuntu1) ...\r\n"
     ]
    },
    {
     "name": "stdout",
     "output_type": "stream",
     "text": [
      "Selecting previously unselected package libvulkan1:amd64.\r\n",
      "Preparing to unpack .../18-libvulkan1_1.2.131.2-1_amd64.deb ...\r\n",
      "\u001b7\u001b[24;0f\u001b[42m\u001b[30mProgress: [ 24%]\u001b[49m\u001b[39m [#############.............................................] \u001b8Unpacking libvulkan1:amd64 (1.2.131.2-1) ...\r\n"
     ]
    },
    {
     "name": "stdout",
     "output_type": "stream",
     "text": [
      "\u001b7\u001b[24;0f\u001b[42m\u001b[30mProgress: [ 24%]\u001b[49m\u001b[39m [##############............................................] \u001b8"
     ]
    },
    {
     "name": "stdout",
     "output_type": "stream",
     "text": [
      "Selecting previously unselected package libgl1-mesa-dri:amd64.\r\n",
      "Preparing to unpack .../19-libgl1-mesa-dri_21.2.6-0ubuntu0.1~20.04.1_amd64.deb ...\r\n"
     ]
    },
    {
     "name": "stdout",
     "output_type": "stream",
     "text": [
      "Unpacking libgl1-mesa-dri:amd64 (21.2.6-0ubuntu0.1~20.04.1) ...\r\n"
     ]
    },
    {
     "name": "stdout",
     "output_type": "stream",
     "text": [
      "\u001b7\u001b[24;0f\u001b[42m\u001b[30mProgress: [ 25%]\u001b[49m\u001b[39m [##############............................................] \u001b8Selecting previously unselected package libglvnd0:amd64.\r\n"
     ]
    },
    {
     "name": "stdout",
     "output_type": "stream",
     "text": [
      "Preparing to unpack .../20-libglvnd0_1.3.2-1~ubuntu0.20.04.1_amd64.deb ...\r\n",
      "\u001b7\u001b[24;0f\u001b[42m\u001b[30mProgress: [ 26%]\u001b[49m\u001b[39m [###############...........................................] \u001b8Unpacking libglvnd0:amd64 (1.3.2-1~ubuntu0.20.04.1) ...\r\n"
     ]
    },
    {
     "name": "stdout",
     "output_type": "stream",
     "text": [
      "Selecting previously unselected package libx11-xcb1:amd64.\r\n",
      "Preparing to unpack .../21-libx11-xcb1_2%3a1.6.9-2ubuntu1.2_amd64.deb ...\r\n",
      "\u001b7\u001b[24;0f\u001b[42m\u001b[30mProgress: [ 27%]\u001b[49m\u001b[39m [###############...........................................] \u001b8Unpacking libx11-xcb1:amd64 (2:1.6.9-2ubuntu1.2) ...\r\n",
      "\u001b7\u001b[24;0f\u001b[42m\u001b[30mProgress: [ 28%]\u001b[49m\u001b[39m [################..........................................] \u001b8Selecting previously unselected package libxcb-dri2-0:amd64.\r\n",
      "Preparing to unpack .../22-libxcb-dri2-0_1.14-2_amd64.deb ...\r\n",
      "Unpacking libxcb-dri2-0:amd64 (1.14-2) ...\r\n"
     ]
    },
    {
     "name": "stdout",
     "output_type": "stream",
     "text": [
      "\u001b7\u001b[24;0f\u001b[42m\u001b[30mProgress: [ 29%]\u001b[49m\u001b[39m [################..........................................] \u001b8"
     ]
    },
    {
     "name": "stdout",
     "output_type": "stream",
     "text": [
      "Selecting previously unselected package libxcb-dri3-0:amd64.\r\n",
      "Preparing to unpack .../23-libxcb-dri3-0_1.14-2_amd64.deb ...\r\n"
     ]
    },
    {
     "name": "stdout",
     "output_type": "stream",
     "text": [
      "Unpacking libxcb-dri3-0:amd64 (1.14-2) ...\r\n",
      "\u001b7\u001b[24;0f\u001b[42m\u001b[30mProgress: [ 31%]\u001b[49m\u001b[39m [#################.........................................] \u001b8"
     ]
    },
    {
     "name": "stdout",
     "output_type": "stream",
     "text": [
      "Selecting previously unselected package libxcb-glx0:amd64.\r\n",
      "Preparing to unpack .../24-libxcb-glx0_1.14-2_amd64.deb ...\r\n",
      "\u001b7\u001b[24;0f\u001b[42m\u001b[30mProgress: [ 31%]\u001b[49m\u001b[39m [##################........................................] \u001b8"
     ]
    },
    {
     "name": "stdout",
     "output_type": "stream",
     "text": [
      "Unpacking libxcb-glx0:amd64 (1.14-2) ...\r\n"
     ]
    },
    {
     "name": "stdout",
     "output_type": "stream",
     "text": [
      "Selecting previously unselected package libxcb-present0:amd64.\r\n",
      "Preparing to unpack .../25-libxcb-present0_1.14-2_amd64.deb ...\r\n"
     ]
    },
    {
     "name": "stdout",
     "output_type": "stream",
     "text": [
      "\u001b7\u001b[24;0f\u001b[42m\u001b[30mProgress: [ 32%]\u001b[49m\u001b[39m [##################........................................] \u001b8Unpacking libxcb-present0:amd64 (1.14-2) ...\r\n",
      "\u001b7\u001b[24;0f\u001b[42m\u001b[30mProgress: [ 33%]\u001b[49m\u001b[39m [###################.......................................] \u001b8"
     ]
    },
    {
     "name": "stdout",
     "output_type": "stream",
     "text": [
      "Selecting previously unselected package libxcb-shm0:amd64.\r\n",
      "Preparing to unpack .../26-libxcb-shm0_1.14-2_amd64.deb ...\r\n",
      "Unpacking libxcb-shm0:amd64 (1.14-2) ...\r\n"
     ]
    },
    {
     "name": "stdout",
     "output_type": "stream",
     "text": [
      "\u001b7\u001b[24;0f\u001b[42m\u001b[30mProgress: [ 34%]\u001b[49m\u001b[39m [###################.......................................] \u001b8Selecting previously unselected package libxcb-sync1:amd64.\r\n",
      "Preparing to unpack .../27-libxcb-sync1_1.14-2_amd64.deb ...\r\n"
     ]
    },
    {
     "name": "stdout",
     "output_type": "stream",
     "text": [
      "\u001b7\u001b[24;0f\u001b[42m\u001b[30mProgress: [ 35%]\u001b[49m\u001b[39m [####################......................................] \u001b8Unpacking libxcb-sync1:amd64 (1.14-2) ...\r\n",
      "Selecting previously unselected package libxcb-xfixes0:amd64.\r\n",
      "Preparing to unpack .../28-libxcb-xfixes0_1.14-2_amd64.deb ...\r\n",
      "\u001b7\u001b[24;0f\u001b[42m\u001b[30mProgress: [ 36%]\u001b[49m\u001b[39m [#####################.....................................] \u001b8Unpacking libxcb-xfixes0:amd64 (1.14-2) ...\r\n"
     ]
    },
    {
     "name": "stdout",
     "output_type": "stream",
     "text": [
      "Selecting previously unselected package libxfixes3:amd64.\r\n",
      "Preparing to unpack .../29-libxfixes3_1%3a5.0.3-2_amd64.deb ...\r\n",
      "\u001b7\u001b[24;0f\u001b[42m\u001b[30mProgress: [ 38%]\u001b[49m\u001b[39m [#####################.....................................] \u001b8Unpacking libxfixes3:amd64 (1:5.0.3-2) ...\r\n"
     ]
    },
    {
     "name": "stdout",
     "output_type": "stream",
     "text": [
      "\u001b7\u001b[24;0f\u001b[42m\u001b[30mProgress: [ 38%]\u001b[49m\u001b[39m [######################....................................] \u001b8"
     ]
    },
    {
     "name": "stdout",
     "output_type": "stream",
     "text": [
      "Selecting previously unselected package libxshmfence1:amd64.\r\n",
      "Preparing to unpack .../30-libxshmfence1_1.3-1_amd64.deb ...\r\n",
      "Unpacking libxshmfence1:amd64 (1.3-1) ...\r\n",
      "\u001b7\u001b[24;0f\u001b[42m\u001b[30mProgress: [ 39%]\u001b[49m\u001b[39m [######################....................................] \u001b8"
     ]
    },
    {
     "name": "stdout",
     "output_type": "stream",
     "text": [
      "Selecting previously unselected package libxxf86vm1:amd64.\r\n",
      "Preparing to unpack .../31-libxxf86vm1_1%3a1.1.4-1build1_amd64.deb ...\r\n",
      "\u001b7\u001b[24;0f\u001b[42m\u001b[30mProgress: [ 40%]\u001b[49m\u001b[39m [#######################...................................] \u001b8Unpacking libxxf86vm1:amd64 (1:1.1.4-1build1) ...\r\n",
      "Selecting previously unselected package libglx-mesa0:amd64.\r\n",
      "Preparing to unpack .../32-libglx-mesa0_21.2.6-0ubuntu0.1~20.04.1_amd64.deb ...\r\n",
      "\u001b7\u001b[24;0f\u001b[42m\u001b[30mProgress: [ 41%]\u001b[49m\u001b[39m [########################..................................] \u001b8"
     ]
    },
    {
     "name": "stdout",
     "output_type": "stream",
     "text": [
      "Unpacking libglx-mesa0:amd64 (21.2.6-0ubuntu0.1~20.04.1) ...\r\n"
     ]
    },
    {
     "name": "stdout",
     "output_type": "stream",
     "text": [
      "\u001b7\u001b[24;0f\u001b[42m\u001b[30mProgress: [ 42%]\u001b[49m\u001b[39m [########################..................................] \u001b8"
     ]
    },
    {
     "name": "stdout",
     "output_type": "stream",
     "text": [
      "Selecting previously unselected package libglx0:amd64.\r\n",
      "Preparing to unpack .../33-libglx0_1.3.2-1~ubuntu0.20.04.1_amd64.deb ...\r\n",
      "Unpacking libglx0:amd64 (1.3.2-1~ubuntu0.20.04.1) ...\r\n"
     ]
    },
    {
     "name": "stdout",
     "output_type": "stream",
     "text": [
      "\u001b7\u001b[24;0f\u001b[42m\u001b[30mProgress: [ 43%]\u001b[49m\u001b[39m [#########################.................................] \u001b8"
     ]
    },
    {
     "name": "stdout",
     "output_type": "stream",
     "text": [
      "Selecting previously unselected package libgl1:amd64.\r\n",
      "Preparing to unpack .../34-libgl1_1.3.2-1~ubuntu0.20.04.1_amd64.deb ...\r\n"
     ]
    },
    {
     "name": "stdout",
     "output_type": "stream",
     "text": [
      "Unpacking libgl1:amd64 (1.3.2-1~ubuntu0.20.04.1) ...\r\n"
     ]
    },
    {
     "name": "stdout",
     "output_type": "stream",
     "text": [
      "\u001b7\u001b[24;0f\u001b[42m\u001b[30mProgress: [ 45%]\u001b[49m\u001b[39m [#########################.................................] \u001b8Selecting previously unselected package libgl1-mesa-glx:amd64.\r\n",
      "Preparing to unpack .../35-libgl1-mesa-glx_21.2.6-0ubuntu0.1~20.04.1_amd64.deb ...\r\n",
      "\u001b7\u001b[24;0f\u001b[42m\u001b[30mProgress: [ 45%]\u001b[49m\u001b[39m [##########################................................] \u001b8Unpacking libgl1-mesa-glx:amd64 (21.2.6-0ubuntu0.1~20.04.1) ...\r\n"
     ]
    },
    {
     "name": "stdout",
     "output_type": "stream",
     "text": [
      "Selecting previously unselected package libwayland-client0:amd64.\r\n",
      "Preparing to unpack .../36-libwayland-client0_1.18.0-1_amd64.deb ...\r\n",
      "\u001b7\u001b[24;0f\u001b[42m\u001b[30mProgress: [ 46%]\u001b[49m\u001b[39m [##########################................................] \u001b8"
     ]
    },
    {
     "name": "stdout",
     "output_type": "stream",
     "text": [
      "Unpacking libwayland-client0:amd64 (1.18.0-1) ...\r\n"
     ]
    },
    {
     "name": "stdout",
     "output_type": "stream",
     "text": [
      "\u001b7\u001b[24;0f\u001b[42m\u001b[30mProgress: [ 47%]\u001b[49m\u001b[39m [###########################...............................] \u001b8Selecting previously unselected package libxcb-randr0:amd64.\r\n",
      "Preparing to unpack .../37-libxcb-randr0_1.14-2_amd64.deb ...\r\n",
      "Unpacking libxcb-randr0:amd64 (1.14-2) ...\r\n",
      "\u001b7\u001b[24;0f\u001b[42m\u001b[30mProgress: [ 48%]\u001b[49m\u001b[39m [############################..............................] \u001b8"
     ]
    },
    {
     "name": "stdout",
     "output_type": "stream",
     "text": [
      "Selecting previously unselected package mesa-vulkan-drivers:amd64.\r\n"
     ]
    },
    {
     "name": "stdout",
     "output_type": "stream",
     "text": [
      "Preparing to unpack .../38-mesa-vulkan-drivers_21.2.6-0ubuntu0.1~20.04.1_amd64.deb ...\r\n",
      "\u001b7\u001b[24;0f\u001b[42m\u001b[30mProgress: [ 49%]\u001b[49m\u001b[39m [############################..............................] \u001b8Unpacking mesa-vulkan-drivers:amd64 (21.2.6-0ubuntu0.1~20.04.1) ...\r\n"
     ]
    },
    {
     "name": "stdout",
     "output_type": "stream",
     "text": [
      "Setting up libx11-xcb1:amd64 (2:1.6.9-2ubuntu1.2) ...\r\n"
     ]
    },
    {
     "name": "stdout",
     "output_type": "stream",
     "text": [
      "\u001b7\u001b[24;0f\u001b[42m\u001b[30mProgress: [ 50%]\u001b[49m\u001b[39m [#############################.............................] \u001b8Setting up libpciaccess0:amd64 (0.16-0ubuntu1) ...\r\n",
      "\u001b7\u001b[24;0f\u001b[42m\u001b[30mProgress: [ 52%]\u001b[49m\u001b[39m [#############################.............................] \u001b8"
     ]
    },
    {
     "name": "stdout",
     "output_type": "stream",
     "text": [
      "\u001b7\u001b[24;0f\u001b[42m\u001b[30mProgress: [ 52%]\u001b[49m\u001b[39m [##############################............................] \u001b8Setting up libxau6:amd64 (1:1.0.9-0ubuntu1) ...\r\n",
      "\u001b7\u001b[24;0f\u001b[42m\u001b[30mProgress: [ 54%]\u001b[49m\u001b[39m [###############################...........................] \u001b8Setting up libxdmcp6:amd64 (1:1.1.3-0ubuntu1) ...\r\n",
      "\u001b7\u001b[24;0f\u001b[42m\u001b[30mProgress: [ 54%]\u001b[49m\u001b[39m [###############################...........................] \u001b8Setting up libxcb1:amd64 (1.14-2) ...\r\n",
      "\u001b7\u001b[24;0f\u001b[42m\u001b[30mProgress: [ 55%]\u001b[49m\u001b[39m [################################..........................] \u001b8\u001b7\u001b[24;0f\u001b[42m\u001b[30mProgress: [ 56%]\u001b[49m\u001b[39m [################################..........................] \u001b8Setting up libxcb-xfixes0:amd64 (1.14-2) ...\r\n",
      "\u001b7\u001b[24;0f\u001b[42m\u001b[30mProgress: [ 57%]\u001b[49m\u001b[39m [#################################.........................] \u001b8Setting up libglvnd0:amd64 (1.3.2-1~ubuntu0.20.04.1) ...\r\n",
      "\u001b7\u001b[24;0f\u001b[42m\u001b[30mProgress: [ 59%]\u001b[49m\u001b[39m [#################################.........................] \u001b8Setting up libxcb-glx0:amd64 (1.14-2) ...\r\n",
      "\u001b7\u001b[24;0f\u001b[42m\u001b[30mProgress: [ 59%]\u001b[49m\u001b[39m [##################################........................] \u001b8"
     ]
    },
    {
     "name": "stdout",
     "output_type": "stream",
     "text": [
      "Setting up libsensors-config (1:3.6.0-2ubuntu1) ...\r\n",
      "\u001b7\u001b[24;0f\u001b[42m\u001b[30mProgress: [ 61%]\u001b[49m\u001b[39m [###################################.......................] \u001b8\u001b7\u001b[24;0f\u001b[42m\u001b[30mProgress: [ 61%]\u001b[49m\u001b[39m [###################################.......................] \u001b8Setting up libxcb-shm0:amd64 (1.14-2) ...\r\n",
      "\u001b7\u001b[24;0f\u001b[42m\u001b[30mProgress: [ 62%]\u001b[49m\u001b[39m [####################################......................] \u001b8Setting up libxcb-present0:amd64 (1.14-2) ...\r\n",
      "\u001b7\u001b[24;0f\u001b[42m\u001b[30mProgress: [ 63%]\u001b[49m\u001b[39m [####################################......................] \u001b8Setting up libx11-data (2:1.6.9-2ubuntu1.2) ...\r\n",
      "\u001b7\u001b[24;0f\u001b[42m\u001b[30mProgress: [ 64%]\u001b[49m\u001b[39m [#####################################.....................] \u001b8Setting up libxcb-sync1:amd64 (1.14-2) ...\r\n"
     ]
    },
    {
     "name": "stdout",
     "output_type": "stream",
     "text": [
      "\u001b7\u001b[24;0f\u001b[42m\u001b[30mProgress: [ 66%]\u001b[49m\u001b[39m [######################################....................] \u001b8"
     ]
    },
    {
     "name": "stdout",
     "output_type": "stream",
     "text": [
      "\u001b7\u001b[24;0f\u001b[42m\u001b[30mProgress: [ 66%]\u001b[49m\u001b[39m [######################################....................] \u001b8Setting up libllvm12:amd64 (1:12.0.0-3ubuntu1~20.04.4) ...\r\n"
     ]
    },
    {
     "name": "stdout",
     "output_type": "stream",
     "text": [
      "\u001b7\u001b[24;0f\u001b[42m\u001b[30mProgress: [ 68%]\u001b[49m\u001b[39m [#######################################...................] \u001b8Setting up libsensors5:amd64 (1:3.6.0-2ubuntu1) ...\r\n",
      "\u001b7\u001b[24;0f\u001b[42m\u001b[30mProgress: [ 68%]\u001b[49m\u001b[39m [#######################################...................] \u001b8"
     ]
    },
    {
     "name": "stdout",
     "output_type": "stream",
     "text": [
      "Setting up libglapi-mesa:amd64 (21.2.6-0ubuntu0.1~20.04.1) ...\r\n",
      "\u001b7\u001b[24;0f\u001b[42m\u001b[30mProgress: [ 69%]\u001b[49m\u001b[39m [########################################..................] \u001b8\u001b7\u001b[24;0f\u001b[42m\u001b[30mProgress: [ 70%]\u001b[49m\u001b[39m [########################################..................] \u001b8Setting up libvulkan1:amd64 (1.2.131.2-1) ...\r\n",
      "\u001b7\u001b[24;0f\u001b[42m\u001b[30mProgress: [ 71%]\u001b[49m\u001b[39m [#########################################.................] \u001b8Setting up libxcb-dri2-0:amd64 (1.14-2) ...\r\n",
      "\u001b7\u001b[24;0f\u001b[42m\u001b[30mProgress: [ 73%]\u001b[49m\u001b[39m [##########################################................] \u001b8Setting up libxshmfence1:amd64 (1.3-1) ...\r\n"
     ]
    },
    {
     "name": "stdout",
     "output_type": "stream",
     "text": [
      "\u001b7\u001b[24;0f\u001b[42m\u001b[30mProgress: [ 73%]\u001b[49m\u001b[39m [##########################################................] \u001b8"
     ]
    },
    {
     "name": "stdout",
     "output_type": "stream",
     "text": [
      "Setting up libxcb-randr0:amd64 (1.14-2) ...\r\n",
      "\u001b7\u001b[24;0f\u001b[42m\u001b[30mProgress: [ 75%]\u001b[49m\u001b[39m [###########################################...............] \u001b8\u001b7\u001b[24;0f\u001b[42m\u001b[30mProgress: [ 75%]\u001b[49m\u001b[39m [###########################################...............] \u001b8Setting up libx11-6:amd64 (2:1.6.9-2ubuntu1.2) ...\r\n",
      "\u001b7\u001b[24;0f\u001b[42m\u001b[30mProgress: [ 76%]\u001b[49m\u001b[39m [############################################..............] \u001b8Setting up libdrm-common (2.4.107-8ubuntu1~20.04.1) ...\r\n",
      "\u001b7\u001b[24;0f\u001b[42m\u001b[30mProgress: [ 77%]\u001b[49m\u001b[39m [############################################..............] \u001b8Setting up libelf1:amd64 (0.176-1.1build1) ...\r\n",
      "\u001b7\u001b[24;0f\u001b[42m\u001b[30mProgress: [ 78%]\u001b[49m\u001b[39m [#############################################.............] \u001b8Setting up libwayland-client0:amd64 (1.18.0-1) ...\r\n",
      "\u001b7\u001b[24;0f\u001b[42m\u001b[30mProgress: [ 80%]\u001b[49m\u001b[39m [##############################################............] \u001b8\u001b7\u001b[24;0f\u001b[42m\u001b[30mProgress: [ 80%]\u001b[49m\u001b[39m [##############################################............] \u001b8Setting up libxcb-dri3-0:amd64 (1.14-2) ...\r\n"
     ]
    },
    {
     "name": "stdout",
     "output_type": "stream",
     "text": [
      "\u001b7\u001b[24;0f\u001b[42m\u001b[30mProgress: [ 82%]\u001b[49m\u001b[39m [###############################################...........] \u001b8Setting up libxext6:amd64 (2:1.3.4-0ubuntu1) ...\r\n",
      "\u001b7\u001b[24;0f\u001b[42m\u001b[30mProgress: [ 82%]\u001b[49m\u001b[39m [###############################################...........] \u001b8Setting up libxxf86vm1:amd64 (1:1.1.4-1build1) ...\r\n",
      "\u001b7\u001b[24;0f\u001b[42m\u001b[30mProgress: [ 83%]\u001b[49m\u001b[39m [################################################..........] \u001b8\u001b7\u001b[24;0f\u001b[42m\u001b[30mProgress: [ 84%]\u001b[49m\u001b[39m [################################################..........] \u001b8"
     ]
    },
    {
     "name": "stdout",
     "output_type": "stream",
     "text": [
      "Setting up libxfixes3:amd64 (1:5.0.3-2) ...\r\n",
      "\u001b7\u001b[24;0f\u001b[42m\u001b[30mProgress: [ 85%]\u001b[49m\u001b[39m [#################################################.........] \u001b8Setting up libdrm2:amd64 (2.4.107-8ubuntu1~20.04.1) ...\r\n"
     ]
    },
    {
     "name": "stdout",
     "output_type": "stream",
     "text": [
      "\u001b7\u001b[24;0f\u001b[42m\u001b[30mProgress: [ 87%]\u001b[49m\u001b[39m [##################################################........] \u001b8"
     ]
    },
    {
     "name": "stdout",
     "output_type": "stream",
     "text": [
      "Setting up libdrm-amdgpu1:amd64 (2.4.107-8ubuntu1~20.04.1) ...\r\n",
      "\u001b7\u001b[24;0f\u001b[42m\u001b[30mProgress: [ 87%]\u001b[49m\u001b[39m [##################################################........] \u001b8"
     ]
    },
    {
     "name": "stdout",
     "output_type": "stream",
     "text": [
      "Setting up mesa-vulkan-drivers:amd64 (21.2.6-0ubuntu0.1~20.04.1) ...\r\n",
      "\u001b7\u001b[24;0f\u001b[42m\u001b[30mProgress: [ 89%]\u001b[49m\u001b[39m [###################################################.......] \u001b8"
     ]
    },
    {
     "name": "stdout",
     "output_type": "stream",
     "text": [
      "\u001b7\u001b[24;0f\u001b[42m\u001b[30mProgress: [ 89%]\u001b[49m\u001b[39m [###################################################.......] \u001b8Setting up libdrm-nouveau2:amd64 (2.4.107-8ubuntu1~20.04.1) ...\r\n",
      "\u001b7\u001b[24;0f\u001b[42m\u001b[30mProgress: [ 90%]\u001b[49m\u001b[39m [####################################################......] \u001b8Setting up libdrm-radeon1:amd64 (2.4.107-8ubuntu1~20.04.1) ...\r\n",
      "\u001b7\u001b[24;0f\u001b[42m\u001b[30mProgress: [ 91%]\u001b[49m\u001b[39m [####################################################......] \u001b8Setting up libdrm-intel1:amd64 (2.4.107-8ubuntu1~20.04.1) ...\r\n",
      "\u001b7\u001b[24;0f\u001b[42m\u001b[30mProgress: [ 92%]\u001b[49m\u001b[39m [#####################################################.....] \u001b8"
     ]
    },
    {
     "name": "stdout",
     "output_type": "stream",
     "text": [
      "Setting up libgl1-mesa-dri:amd64 (21.2.6-0ubuntu0.1~20.04.1) ...\r\n",
      "\u001b7\u001b[24;0f\u001b[42m\u001b[30mProgress: [ 94%]\u001b[49m\u001b[39m [######################################################....] \u001b8\u001b7\u001b[24;0f\u001b[42m\u001b[30mProgress: [ 94%]\u001b[49m\u001b[39m [######################################################....] \u001b8Setting up libglx-mesa0:amd64 (21.2.6-0ubuntu0.1~20.04.1) ...\r\n"
     ]
    },
    {
     "name": "stdout",
     "output_type": "stream",
     "text": [
      "\u001b7\u001b[24;0f\u001b[42m\u001b[30mProgress: [ 96%]\u001b[49m\u001b[39m [#######################################################...] \u001b8Setting up libglx0:amd64 (1.3.2-1~ubuntu0.20.04.1) ...\r\n"
     ]
    },
    {
     "name": "stdout",
     "output_type": "stream",
     "text": [
      "\u001b7\u001b[24;0f\u001b[42m\u001b[30mProgress: [ 96%]\u001b[49m\u001b[39m [#######################################################...] \u001b8Setting up libgl1:amd64 (1.3.2-1~ubuntu0.20.04.1) ...\r\n",
      "\u001b7\u001b[24;0f\u001b[42m\u001b[30mProgress: [ 97%]\u001b[49m\u001b[39m [########################################################..] \u001b8\u001b7\u001b[24;0f\u001b[42m\u001b[30mProgress: [ 98%]\u001b[49m\u001b[39m [########################################################..] \u001b8Setting up libgl1-mesa-glx:amd64 (21.2.6-0ubuntu0.1~20.04.1) ...\r\n"
     ]
    },
    {
     "name": "stdout",
     "output_type": "stream",
     "text": [
      "\u001b7\u001b[24;0f\u001b[42m\u001b[30mProgress: [ 99%]\u001b[49m\u001b[39m [#########################################################.] \u001b8"
     ]
    },
    {
     "name": "stdout",
     "output_type": "stream",
     "text": [
      "Processing triggers for libc-bin (2.31-0ubuntu9.2) ...\r\n"
     ]
    },
    {
     "name": "stdout",
     "output_type": "stream",
     "text": [
      "\r\n",
      "\u001b7\u001b[0;24r\u001b8\u001b[1A\u001b[J"
     ]
    },
    {
     "name": "stdout",
     "output_type": "stream",
     "text": [
      "Looking in indexes: https://pypi.org/simple, https://pypi.ngc.nvidia.com\r\n",
      "Requirement already satisfied: opencv-python in /opt/conda/lib/python3.8/site-packages (4.5.5.62)\r\n"
     ]
    },
    {
     "name": "stdout",
     "output_type": "stream",
     "text": [
      "Requirement already satisfied: numpy>=1.14.5 in /opt/conda/lib/python3.8/site-packages (from opencv-python) (1.21.2)\r\n"
     ]
    },
    {
     "name": "stdout",
     "output_type": "stream",
     "text": [
      "\u001b[33mWARNING: Running pip as the 'root' user can result in broken permissions and conflicting behaviour with the system package manager. It is recommended to use a virtual environment instead: https://pip.pypa.io/warnings/venv\u001b[0m\r\n"
     ]
    },
    {
     "name": "stdout",
     "output_type": "stream",
     "text": [
      "Looking in indexes: https://pypi.org/simple, https://pypi.ngc.nvidia.com\r\n",
      "Requirement already satisfied: torchvision in /opt/conda/lib/python3.8/site-packages (0.11.0a0)\r\n",
      "Requirement already satisfied: pillow!=8.3.0,>=5.3.0 in /opt/conda/lib/python3.8/site-packages (from torchvision) (8.2.0)\r\n",
      "Requirement already satisfied: numpy in /opt/conda/lib/python3.8/site-packages (from torchvision) (1.21.2)\r\n",
      "Requirement already satisfied: torch==1.10.0a0+0aef44c in /opt/conda/lib/python3.8/site-packages (from torchvision) (1.10.0a0+0aef44c)\r\n",
      "Requirement already satisfied: typing_extensions in /opt/conda/lib/python3.8/site-packages (from torch==1.10.0a0+0aef44c->torchvision) (3.10.0.2)\r\n"
     ]
    },
    {
     "name": "stdout",
     "output_type": "stream",
     "text": [
      "\u001b[33mWARNING: Running pip as the 'root' user can result in broken permissions and conflicting behaviour with the system package manager. It is recommended to use a virtual environment instead: https://pip.pypa.io/warnings/venv\u001b[0m\r\n"
     ]
    }
   ],
   "source": [
    "!apt-get update\n",
    "!apt install libgl1-mesa-glx -y\n",
    "!pip install opencv-python --upgrade\n",
    "!python -m pip install torchvision "
   ]
  },
  {
   "cell_type": "code",
   "execution_count": null,
   "metadata": {
    "gradient": {
     "editing": false,
     "execution_count": 1,
     "id": "5a7529ef-23c8-40b6-9b40-3cd0d11dd258",
     "kernelId": "f7c42b65-bedc-4882-9be3-0e38affbeed4"
    },
    "id": "0zPOC_lEQnZM"
   },
   "outputs": [],
   "source": [
    "import cv2 as cv\n",
    "import numpy as np\n",
    "from matplotlib import pyplot as plt"
   ]
  },
  {
   "cell_type": "code",
   "execution_count": null,
   "metadata": {
    "gradient": {
     "editing": false,
     "execution_count": 3,
     "id": "9de68f57-bb82-443e-be65-cd67e1b828e8",
     "kernelId": "f7c42b65-bedc-4882-9be3-0e38affbeed4"
    },
    "id": "q6-hFUBoQ18r"
   },
   "outputs": [],
   "source": [
    "template_image='LaunchTestSat3.png'\n",
    "test_image='frame348.jpg'\n",
    "\n",
    "img = cv.imread('../../Data/VideoFrames/'+test_image,0)\n",
    "img2 = img.copy()\n",
    "template = cv.imread('../../Data/Template_imgs/'+template_image,0)\n",
    "w, h = template.shape[::-1]"
   ]
  },
  {
   "cell_type": "code",
   "execution_count": null,
   "metadata": {
    "gradient": {
     "editing": false,
     "execution_count": 4,
     "id": "813b573e-44d4-4a5c-9612-33c47ae77ad8",
     "kernelId": "f7c42b65-bedc-4882-9be3-0e38affbeed4"
    },
    "id": "F2Q26czPQ6RE"
   },
   "outputs": [],
   "source": [
    "# All the 6 methods for comparison in a list\n",
    "methods = ['cv.TM_CCOEFF', 'cv.TM_CCOEFF_NORMED', 'cv.TM_CCORR',\n",
    "            'cv.TM_CCORR_NORMED', 'cv.TM_SQDIFF', 'cv.TM_SQDIFF_NORMED']"
   ]
  },
  {
   "cell_type": "code",
   "execution_count": null,
   "metadata": {
    "colab": {
     "base_uri": "https://localhost:8080/",
     "height": 1000
    },
    "gradient": {
     "editing": false,
     "execution_count": 5,
     "id": "9aef2c7e-bedd-4437-91d8-394a3408029b",
     "kernelId": "f7c42b65-bedc-4882-9be3-0e38affbeed4"
    },
    "id": "yAXhMR7DQ7UG",
    "outputId": "2cfde9c1-39bc-4800-c0fc-b9f39968cd7f"
   },
   "outputs": [
    {
     "data": {
      "image/png": "[encoded data removed]",
      "text/plain": [
       "<Figure size 432x288 with 2 Axes>"
      ]
     },
     "metadata": {},
     "output_type": "display_data",
     "transient": {}
    },
    {
     "data": {
      "image/png": "[encoded data removed]",
      "text/plain": [
       "<Figure size 432x288 with 2 Axes>"
      ]
     },
     "metadata": {},
     "output_type": "display_data",
     "transient": {}
    },
    {
     "data": {
      "image/png": "[encoded data removed]",
      "text/plain": [
       "<Figure size 432x288 with 2 Axes>"
      ]
     },
     "metadata": {},
     "output_type": "display_data",
     "transient": {}
    },
    {
     "data": {
      "image/png": "[encoded data removed]",
      "text/plain": [
       "<Figure size 432x288 with 2 Axes>"
      ]
     },
     "metadata": {},
     "output_type": "display_data",
     "transient": {}
    },
    {
     "data": {
      "image/png": "[encoded data removed]",
      "text/plain": [
       "<Figure size 432x288 with 2 Axes>"
      ]
     },
     "metadata": {},
     "output_type": "display_data",
     "transient": {}
    },
    {
     "data": {
      "image/png": "[encoded data removed]",
      "text/plain": [
       "<Figure size 432x288 with 2 Axes>"
      ]
     },
     "metadata": {},
     "output_type": "display_data",
     "transient": {}
    }
   ],
   "source": [
    "for meth in methods:\n",
    "    img = img2.copy()\n",
    "    method = eval(meth)\n",
    "    # Apply template Matching\n",
    "    res = cv.matchTemplate(img,template,method)\n",
    "    min_val, max_val, min_loc, max_loc = cv.minMaxLoc(res)\n",
    "    # If the method is TM_SQDIFF or TM_SQDIFF_NORMED, take minimum\n",
    "    if method in [cv.TM_SQDIFF, cv.TM_SQDIFF_NORMED]:\n",
    "        top_left = min_loc\n",
    "    else:\n",
    "        top_left = max_loc\n",
    "    bottom_right = (top_left[0] + w, top_left[1] + h)\n",
    "    cv.rectangle(img,top_left, bottom_right, 255, 2)\n",
    "    plt.subplot(121),plt.imshow(res,cmap = 'gray')\n",
    "    plt.title('Matching Result'), plt.xticks([]), plt.yticks([])\n",
    "    plt.subplot(122),plt.imshow(img,cmap = 'gray')\n",
    "    plt.title('Detected Point'), plt.xticks([]), plt.yticks([])\n",
    "    plt.suptitle(meth)\n",
    "    plt.show()"
   ]
  },
  {
   "cell_type": "code",
   "execution_count": null,
   "metadata": {
    "collapsed": false,
    "gradient": {
     "id": "96dd5eea-0fee-426b-be0c-7e160ec31515",
     "kernelId": "f7c42b65-bedc-4882-9be3-0e38affbeed4",
     "source_hidden": false
    }
   },
   "outputs": [],
   "source": []
  }
 ],
 "metadata": {
  "colab": {
   "collapsed_sections": [],
   "name": "Template Match Test",
   "provenance": []
  },
  "kernelspec": {
   "display_name": "Python 3",
   "name": "python3"
  },
  "language_info": {
   "name": "python"
  }
 },
 "nbformat": 4,
 "nbformat_minor": 0
}
