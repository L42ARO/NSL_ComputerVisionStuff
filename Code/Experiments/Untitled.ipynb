{
 "cells": [
  {
   "cell_type": "markdown",
   "id": "6a8b500d-ac9a-4cdf-b52b-ce989fcdd1a0",
   "metadata": {
    "gradient": {
     "editing": false,
     "id": "6a8b500d-ac9a-4cdf-b52b-ce989fcdd1a0",
     "kernelId": "d6465465-8db0-4683-a420-1b3dcc70cf04"
    }
   },
   "source": [
    "# EMTPY NOTEBOOK FOR TESTS"
   ]
  },
  {
   "cell_type": "code",
   "execution_count": null,
   "id": "7002382f-630b-4103-b66b-8bb397b4093e",
   "metadata": {
    "collapsed": false,
    "gradient": {
     "editing": false,
     "id": "7002382f-630b-4103-b66b-8bb397b4093e",
     "kernelId": "d6465465-8db0-4683-a420-1b3dcc70cf04",
     "source_hidden": false
    }
   },
   "outputs": [],
   "source": [
    "print(\"hello world\")"
   ]
  }
 ],
 "metadata": {},
 "nbformat": 4,
 "nbformat_minor": 5
}
