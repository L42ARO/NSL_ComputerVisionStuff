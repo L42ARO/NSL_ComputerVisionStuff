{
 "cells": [
  {
   "cell_type": "code",
   "execution_count": 11,
   "metadata": {},
   "outputs": [
    {
     "name": "stdout",
     "output_type": "stream",
     "text": [
      "Requirement already satisfied: imutils in c:\\users\\l42aro\\appdata\\local\\packages\\pythonsoftwarefoundation.python.3.9_qbz5n2kfra8p0\\localcache\\local-packages\\python39\\site-packages (0.5.4)\n"
     ]
    }
   ],
   "source": [
    "!pip install imutils"
   ]
  },
  {
   "cell_type": "code",
   "execution_count": 12,
   "metadata": {},
   "outputs": [],
   "source": [
    "import cv2\n",
    "import imutils\n",
    "import numpy"
   ]
  },
  {
   "cell_type": "code",
   "execution_count": 13,
   "metadata": {},
   "outputs": [],
   "source": [
    "def CreateTransformationMatrix(view_x, view_y, view_z, width, height):\n",
    "\n",
    "    # Create a rotation matrix\n",
    "    view_x1 = (view_x-90) * (numpy.pi / 180)\n",
    "    view_y1 = (view_y-90) * (numpy.pi / 180)\n",
    "    view_z1 = (view_z-90) * (numpy.pi / 180)\n",
    "    R_array = numpy.array([view_x1, view_y1, view_z1])\n",
    "\n",
    "    R, jacobian = cv2.Rodrigues(R_array)\n",
    "    R[0][2] = 0\n",
    "    R[1][2] = 0\n",
    "    R[2][2] = 1\n",
    "\n",
    "    #Create and combine with translation matrix\n",
    "    Trans_Mat = numpy.array([[1, 0, -width/2],\n",
    "                        [0, 1, -height/2],\n",
    "                        [0, 0, 1]])\n",
    "\n",
    "    R_T_Mat = numpy.dot(R, Trans_Mat)\n",
    "    R_T_Mat[2][2] += height\n",
    "\n",
    "    #Create and combine with camera matriview_x\n",
    "    Intrinsic_Mat = numpy.array([[height, 0, width/2],\n",
    "                           [0, height, height/2],\n",
    "                           [0, 0, 1]])\n",
    "\n",
    "    print(Intrinsic_Mat.__class__.__name__, Intrinsic_Mat.shape, R_T_Mat.__class__.__name__, R_T_Mat.shape)\n",
    "    rotation_matrix = numpy.dot(Intrinsic_Mat, R_T_Mat)\n",
    "    return rotation_matrix\n",
    "\n",
    "def RotateAndDisplayImage(img, img_width, img_height, Dview=[90,90,90]):\n",
    "    M_Transformation_Matrix = CreateTransformationMatrix(Dview[0], Dview[1], Dview[2], img_width, img_height)\n",
    "    print(\"M_Transformation_Matrix\", M_Transformation_Matrix)\n",
    "    persp = cv2.warpPerspective(img, M_Transformation_Matrix, (img_width, img_height))\n",
    "    return persp"
   ]
  },
  {
   "cell_type": "code",
   "execution_count": 14,
   "metadata": {},
   "outputs": [
    {
     "name": "stdout",
     "output_type": "stream",
     "text": [
      "ndarray (3, 3) ndarray (3, 3)\n",
      "M_Transformation_Matrix [[ 3.95736188e+02  6.62873038e+01 -2.13104855e+04]\n",
      " [-3.10979022e+01  3.57272334e+02  9.06741353e+03]\n",
      " [ 1.72766123e-01  1.51537014e-02  3.11625480e+02]]\n"
     ]
    },
    {
     "data": {
      "text/plain": [
       "True"
      ]
     },
     "execution_count": 14,
     "metadata": {},
     "output_type": "execute_result"
    }
   ],
   "source": [
    "fn = \"../../Data/VideoFrames/frame360.jpg\"\n",
    "\n",
    "view_rot = [90.0,80.0,80.0]\n",
    "im = cv2.imread(fn)\n",
    "im_h, im_w, im_ch_ct = im.shape\n",
    "cv2.imwrite(\"Rectified.jpg\",RotateAndDisplayImage(im, im_w,im_h,view_rot))"
   ]
  },
  {
   "cell_type": "markdown",
   "metadata": {},
   "source": [
    "## ORIGINAL VERSION OF THE CODE"
   ]
  },
  {
   "cell_type": "code",
   "execution_count": 15,
   "metadata": {},
   "outputs": [
    {
     "ename": "AttributeError",
     "evalue": "'NoneType' object has no attribute 'shape'",
     "output_type": "error",
     "traceback": [
      "\u001b[1;31m---------------------------------------------------------------------------\u001b[0m",
      "\u001b[1;31mAttributeError\u001b[0m                            Traceback (most recent call last)",
      "Input \u001b[1;32mIn [15]\u001b[0m, in \u001b[0;36m<cell line: 58>\u001b[1;34m()\u001b[0m\n\u001b[0;32m     56\u001b[0m view_x \u001b[39m=\u001b[39m view_y \u001b[39m=\u001b[39m view_z \u001b[39m=\u001b[39m \u001b[39mfloat\u001b[39m(\u001b[39m90\u001b[39m)\n\u001b[0;32m     57\u001b[0m im \u001b[39m=\u001b[39m cv2\u001b[39m.\u001b[39mimread(fn)\n\u001b[1;32m---> 58\u001b[0m im_h, im_w, im_ch_ct \u001b[39m=\u001b[39m im\u001b[39m.\u001b[39;49mshape\n\u001b[0;32m     59\u001b[0m cv2\u001b[39m.\u001b[39mnamedWindow(\u001b[39m\"\u001b[39m\u001b[39mDistorted\u001b[39m\u001b[39m\"\u001b[39m)\n\u001b[0;32m     60\u001b[0m cv2\u001b[39m.\u001b[39mnamedWindow(\u001b[39m\"\u001b[39m\u001b[39mundistorted\u001b[39m\u001b[39m\"\u001b[39m)\n",
      "\u001b[1;31mAttributeError\u001b[0m: 'NoneType' object has no attribute 'shape'"
     ]
    }
   ],
   "source": [
    "def CreateTransformationMatrix():\n",
    "\n",
    "    # Create a rotation matrix\n",
    "    view_x1 = (view_x-90) * (numpy.pi / 180)\n",
    "    view_y1 = (view_y-90) * (numpy.pi / 180)\n",
    "    view_z1 = (view_z-90) * (numpy.pi / 180)\n",
    "    R_array = numpy.array([view_x1, view_y1, view_z1])\n",
    "\n",
    "    R, jacobian = cv2.Rodrigues(R_array)\n",
    "    R[0][2] = 0\n",
    "    R[1][2] = 0\n",
    "    R[2][2] = 1\n",
    "\n",
    "    #Create and combine with translation matrix\n",
    "    Trans_Mat = numpy.array([[1, 0, -im_w/2],\n",
    "                        [0, 1, -im_h/2],\n",
    "                        [0, 0, 1]])\n",
    "\n",
    "    R_T_Mat = numpy.dot(R, Trans_Mat)\n",
    "    R_T_Mat[2][2] += im_h\n",
    "\n",
    "    #Create and combine with camera matriview_x\n",
    "    Intrinsic_Mat = numpy.array([[im_h, 0, im_w/2],\n",
    "                           [0, im_h, im_h/2],\n",
    "                           [0, 0, 1]])\n",
    "\n",
    "    print(Intrinsic_Mat.__class__.__name__, Intrinsic_Mat.shape, R_T_Mat.__class__.__name__, R_T_Mat.shape)\n",
    "    rotation_matrix = numpy.dot(Intrinsic_Mat, R_T_Mat)\n",
    "    return rotation_matrix\n",
    "\n",
    "def RotateAndDisplayImage():\n",
    "    M_Transformation_Matrix = CreateTransformationMatrix()\n",
    "    print(\"M_Transformation_Matrix\", M_Transformation_Matrix)\n",
    "    persp = cv2.warpPerspective(im, M_Transformation_Matrix, (im_w, im_h))\n",
    "\n",
    "    cv2.imshow(\"Distorted\", im)\n",
    "    cv2.imshow(\"undistorted\", persp)\n",
    "\n",
    "def ResetX(pos):\n",
    "    global view_x\n",
    "    view_x = float(pos)\n",
    "    RotateAndDisplayImage()\n",
    "\n",
    "def ResetY(pos):\n",
    "    global view_y\n",
    "    view_y = float(pos)\n",
    "    RotateAndDisplayImage()\n",
    "\n",
    "def ResetZ(pos):\n",
    "    global view_z\n",
    "    view_z = float(pos)\n",
    "    RotateAndDisplayImage()\n",
    "\n",
    "fn = \"../../Data/VideoFrames/frame360.jpg\"\n",
    "\n",
    "view_x = view_y = view_z = float(90)\n",
    "im = cv2.imread(fn)\n",
    "im_h, im_w, im_ch_ct = im.shape\n",
    "cv2.namedWindow(\"Distorted\")\n",
    "cv2.namedWindow(\"undistorted\")\n",
    "cv2.createTrackbar(\"X axis\", \"undistorted\", int(view_x),180, ResetX)\n",
    "cv2.createTrackbar(\"Y axis\", \"undistorted\", int(view_y),180, ResetY)\n",
    "cv2.createTrackbar(\"Z axis\", \"undistorted\", int(view_z),180, ResetZ)\n",
    "\n",
    "RotateAndDisplayImage()\n",
    "\n",
    "cv2.waitKey(0) & 0xff\n",
    "cv2.destroyWindow(\"Distorted\")\n",
    "cv2.destroyWindow(\"undistorted\")"
   ]
  }
 ],
 "metadata": {
  "interpreter": {
   "hash": "33999203795189e61bb43f80f572b7cd75a1aeaa40f0beae14dc699164d1777d"
  },
  "kernelspec": {
   "display_name": "Python 3 (ipykernel)",
   "language": "python",
   "name": "python3"
  },
  "language_info": {
   "codemirror_mode": {
    "name": "ipython",
    "version": 3
   },
   "file_extension": ".py",
   "mimetype": "text/x-python",
   "name": "python",
   "nbconvert_exporter": "python",
   "pygments_lexer": "ipython3",
   "version": "3.8.12"
  }
 },
 "nbformat": 4,
 "nbformat_minor": 4
}
