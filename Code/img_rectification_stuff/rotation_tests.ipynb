{
 "cells": [
  {
   "cell_type": "code",
   "execution_count": 2,
   "metadata": {},
   "outputs": [
    {
     "name": "stdout",
     "output_type": "stream",
     "text": [
      "Looking in indexes: https://pypi.org/simple, https://pypi.ngc.nvidia.com\n",
      "Collecting imutils\n",
      "  Downloading imutils-0.5.4.tar.gz (17 kB)\n",
      "Building wheels for collected packages: imutils\n",
      "  Building wheel for imutils (setup.py) ... \u001b[?25ldone\n",
      "\u001b[?25h  Created wheel for imutils: filename=imutils-0.5.4-py3-none-any.whl size=25860 sha256=a62a89751ca67ce0e5126d9e76e0d06223ba1292c055b28c8a2ac08c0ac912cf\n",
      "  Stored in directory: /tmp/pip-ephem-wheel-cache-fl_4vg9a/wheels/59/1b/52/0dea905f8278d5514dc4d0be5e251967f8681670cadd3dca89\n",
      "Successfully built imutils\n",
      "Installing collected packages: imutils\n",
      "Successfully installed imutils-0.5.4\n",
      "\u001b[33mWARNING: Running pip as the 'root' user can result in broken permissions and conflicting behaviour with the system package manager. It is recommended to use a virtual environment instead: https://pip.pypa.io/warnings/venv\u001b[0m\n"
     ]
    }
   ],
   "source": [
    "!pip install imutils"
   ]
  },
  {
   "cell_type": "code",
   "execution_count": 2,
   "metadata": {},
   "outputs": [],
   "source": [
    "import cv2\n",
    "import imutils\n",
    "import numpy"
   ]
  },
  {
   "cell_type": "code",
   "execution_count": 3,
   "metadata": {},
   "outputs": [],
   "source": [
    "def CreateTransformationMatrix(view_x, view_y, view_z, width, height):\n",
    "\n",
    "    # Create a rotation matrix\n",
    "    view_x1 = (view_x-90) * (numpy.pi / 180)\n",
    "    view_y1 = (view_y-90) * (numpy.pi / 180)\n",
    "    view_z1 = (view_z-90) * (numpy.pi / 180)\n",
    "    R_array = numpy.array([view_x1, view_y1, view_z1])\n",
    "\n",
    "    R, jacobian = cv2.Rodrigues(R_array)\n",
    "    R[0][2] = 0\n",
    "    R[1][2] = 0\n",
    "    R[2][2] = 1\n",
    "\n",
    "    #Create and combine with translation matrix\n",
    "    Trans_Mat = numpy.array([[1, 0, -width/2],\n",
    "                        [0, 1, -height/2],\n",
    "                        [0, 0, 1]])\n",
    "\n",
    "    R_T_Mat = numpy.dot(R, Trans_Mat)\n",
    "    R_T_Mat[2][2] += height\n",
    "\n",
    "    #Create and combine with camera matriview_x\n",
    "    Intrinsic_Mat = numpy.array([[height, 0, width/2],\n",
    "                           [0, height, height/2],\n",
    "                           [0, 0, 1]])\n",
    "\n",
    "    print(Intrinsic_Mat.__class__.__name__, Intrinsic_Mat.shape, R_T_Mat.__class__.__name__, R_T_Mat.shape)\n",
    "    rotation_matrix = numpy.dot(Intrinsic_Mat, R_T_Mat)\n",
    "    return rotation_matrix\n",
    "\n",
    "def RotateAndDisplayImage(img, img_width, img_height, Dview=[90,90,90]):\n",
    "    M_Transformation_Matrix = CreateTransformationMatrix(Dview[0], Dview[1], Dview[2], img_width, img_height)\n",
    "    print(\"M_Transformation_Matrix\", M_Transformation_Matrix)\n",
    "    persp = cv2.warpPerspective(img, M_Transformation_Matrix, (img_width, img_height))\n",
    "    return persp"
   ]
  },
  {
   "cell_type": "code",
   "execution_count": 5,
   "metadata": {},
   "outputs": [
    {
     "name": "stdout",
     "output_type": "stream",
     "text": [
      "ndarray (3, 3) ndarray (3, 3)\n",
      "M_Transformation_Matrix [[ 3.95736188e+02  6.62873038e+01 -2.13104855e+04]\n",
      " [-3.10979022e+01  3.57272334e+02  9.06741353e+03]\n",
      " [ 1.72766123e-01  1.51537014e-02  3.11625480e+02]]\n"
     ]
    },
    {
     "data": {
      "text/plain": [
       "True"
      ]
     },
     "execution_count": 5,
     "metadata": {},
     "output_type": "execute_result"
    }
   ],
   "source": [
    "fn = \"../../Data/VideoFrames/frame360.jpg\"\n",
    "\n",
    "view_rot = [90.0,80.0,80.0]\n",
    "im = cv2.imread(fn)\n",
    "im_h, im_w, im_ch_ct = im.shape\n",
    "cv2.imwrite(\"Rectified.jpg\",RotateAndDisplayImage(im, im_w,im_h,view_rot))"
   ]
  },
  {
   "cell_type": "code",
   "execution_count": null,
   "metadata": {},
   "outputs": [],
   "source": []
  }
 ],
 "metadata": {
  "interpreter": {
   "hash": "33999203795189e61bb43f80f572b7cd75a1aeaa40f0beae14dc699164d1777d"
  },
  "kernelspec": {
   "display_name": "Python 3 (ipykernel)",
   "language": "python",
   "name": "python3"
  },
  "language_info": {
   "codemirror_mode": {
    "name": "ipython",
    "version": 3
   },
   "file_extension": ".py",
   "mimetype": "text/x-python",
   "name": "python",
   "nbconvert_exporter": "python",
   "pygments_lexer": "ipython3",
   "version": "3.8.12"
  }
 },
 "nbformat": 4,
 "nbformat_minor": 4
}
