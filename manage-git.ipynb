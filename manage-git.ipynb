{
 "cells": [
  {
   "cell_type": "markdown",
   "id": "f2e97050",
   "metadata": {
    "gradient": {
     "editing": false,
     "id": "fb5c43fd-f325-421f-90c0-5ab72bae5f9a",
     "kernelId": "3df3d00a-43dd-4473-8083-02ab854e209b"
    }
   },
   "source": [
    "# CODE BLOCKS TO MANAGE GIT-REPO"
   ]
  },
  {
   "cell_type": "markdown",
   "id": "74049af4",
   "metadata": {
    "gradient": {
     "editing": false,
     "id": "1ee8fb70-66dd-4f3a-8b7a-5edaf6e6aed1",
     "kernelId": "3df3d00a-43dd-4473-8083-02ab854e209b"
    }
   },
   "source": [
    "**PULL**: Run the following code block to pull from the github-repo"
   ]
  },
  {
   "cell_type": "code",
   "execution_count": null,
   "id": "8cebd3ca",
   "metadata": {
    "collapsed": true,
    "gradient": {
     "editing": false,
     "id": "cef717d5-9720-4c00-8671-66ff23d399c8",
     "kernelId": "3df3d00a-43dd-4473-8083-02ab854e209b",
     "source_hidden": false
    },
    "jupyter": {
     "outputs_hidden": true
    }
   },
   "outputs": [
    {
     "name": "stdout",
     "output_type": "stream",
     "text": [
      "Already up to date.\n"
     ]
    }
   ],
   "source": [
    "!git fetch\r\n",
    "!git pull"
   ]
  },
  {
   "cell_type": "markdown",
   "id": "f1becd65",
   "metadata": {
    "gradient": {
     "editing": false,
     "id": "098afeb9-bf77-46b9-a2e5-e9fcbde71cc3",
     "kernelId": "3df3d00a-43dd-4473-8083-02ab854e209b"
    }
   },
   "source": [
    "**PUSH**: Run the following code to push to the github repo, modify message each push"
   ]
  },
  {
   "cell_type": "code",
   "execution_count": null,
   "id": "0dbe5ccb",
   "metadata": {
    "collapsed": false,
    "gradient": {
     "editing": false,
     "id": "220c6cbd-9077-4002-94be-899846f7a6dd",
     "kernelId": "3df3d00a-43dd-4473-8083-02ab854e209b",
     "source_hidden": false
    },
    "jupyter": {
     "outputs_hidden": false
    }
   },
   "outputs": [
    {
     "name": "stdout",
     "output_type": "stream",
     "text": [
      "[main eb1aceb] Push test\n",
      " 2 files changed, 159 insertions(+), 8 deletions(-)\n",
      "The authenticity of host 'github.com (140.82.113.3)' can't be established.\n",
      "ECDSA key fingerprint is SHA256:p2QAMXNIC1TJYWeIOttrVc98/R1BUFWu3/LiyKgUfQM.\n",
      "Are you sure you want to continue connecting (yes/no/[fingerprint])? ^C\n"
     ]
    }
   ],
   "source": [
    "!git config --global user.name \"L42ARO\"\r\n",
    "!git add .\r\n",
    "!git commit -m 'Push test'\r\n",
    "!git push"
   ]
  },
  {
   "cell_type": "code",
   "execution_count": null,
   "id": "d6da92f6",
   "metadata": {
    "collapsed": false,
    "gradient": {
     "editing": false,
     "id": "7d689fb2-3c3f-4213-a83b-1e6de6489fa5",
     "kernelId": "3df3d00a-43dd-4473-8083-02ab854e209b",
     "source_hidden": false
    },
    "jupyter": {
     "outputs_hidden": false
    }
   },
   "outputs": [],
   "source": [
    "!git remote set-url origin https://github.com/L42ARO/NSL_ComputerVisionStuff.git"
   ]
  },
  {
   "cell_type": "code",
   "execution_count": null,
   "id": "bf8493b0",
   "metadata": {
    "collapsed": false,
    "gradient": {
     "editing": false,
     "id": "60778ca1-f917-4bae-9f0a-f65f5e8a4971",
     "kernelId": "3df3d00a-43dd-4473-8083-02ab854e209b",
     "source_hidden": false
    },
    "jupyter": {
     "outputs_hidden": false
    }
   },
   "outputs": [
    {
     "name": "stdout",
     "output_type": "stream",
     "text": [
      "Generating public/private rsa key pair.\n",
      "Enter file in which to save the key (/root/.ssh/id_rsa): ^C\n"
     ]
    },
    {
     "ename": "NameError",
     "evalue": "name 'Y' is not defined",
     "output_type": "error",
     "traceback": [
      "\u001b[0;31m---------------------------------------------------------------------------\u001b[0m",
      "\u001b[0;31mNameError\u001b[0m                                 Traceback (most recent call last)",
      "\u001b[0;32m/tmp/ipykernel_294/119222961.py\u001b[0m in \u001b[0;36m<module>\u001b[0;34m\u001b[0m\n\u001b[1;32m      1\u001b[0m \u001b[0mget_ipython\u001b[0m\u001b[0;34m(\u001b[0m\u001b[0;34m)\u001b[0m\u001b[0;34m.\u001b[0m\u001b[0msystem\u001b[0m\u001b[0;34m(\u001b[0m\u001b[0;34m'ssh-keygen -t rsa'\u001b[0m\u001b[0;34m)\u001b[0m\u001b[0;34m\u001b[0m\u001b[0;34m\u001b[0m\u001b[0m\n\u001b[0;32m----> 2\u001b[0;31m \u001b[0mY\u001b[0m\u001b[0;34m\u001b[0m\u001b[0;34m\u001b[0m\u001b[0m\n\u001b[0m",
      "\u001b[0;31mNameError\u001b[0m: name 'Y' is not defined"
     ]
    }
   ],
   "source": [
    "!ssh-keygen -t rsa"
   ]
  },
  {
   "cell_type": "code",
   "execution_count": null,
   "id": "88c423ae",
   "metadata": {
    "collapsed": false,
    "gradient": {
     "editing": false,
     "execution_count": 2,
     "id": "ef585347-424d-4bb5-b3f6-8b2bc0f3a83a",
     "kernelId": "3df3d00a-43dd-4473-8083-02ab854e209b",
     "source_hidden": false
    },
    "jupyter": {
     "outputs_hidden": false
    }
   },
   "outputs": [
    {
     "name": "stdout",
     "output_type": "stream",
     "text": [
      "From https://github.com/L42ARO/NSL_ComputerVisionStuff\n",
      " * branch            main       -> FETCH_HEAD\n",
      "Already up to date.\n"
     ]
    }
   ],
   "source": [
    "!git pull origin main"
   ]
  },
  {
   "cell_type": "code",
   "execution_count": 4,
   "id": "6fe4069a",
   "metadata": {
    "collapsed": false,
    "gradient": {
     "editing": true,
     "id": "65dac057-67c5-43cf-b92b-02351633d657",
     "kernelId": "3df3d00a-43dd-4473-8083-02ab854e209b",
     "source_hidden": false
    },
    "jupyter": {
     "outputs_hidden": false
    }
   },
   "outputs": [
    {
     "name": "stdout",
     "output_type": "stream",
     "text": [
      "Generating public/private ed25519 key pair.\n",
      "Enter file in which to save the key (/root/.ssh/id_ed25519): ^C\n"
     ]
    }
   ],
   "source": [
    "!ssh-keygen -t ed25519 -C \"alvaro512@usf.edu\""
   ]
  },
  {
   "cell_type": "code",
   "execution_count": null,
   "id": "11f081ca",
   "metadata": {},
   "outputs": [],
   "source": []
  }
 ],
 "metadata": {
  "kernelspec": {
   "display_name": "Python 3 (ipykernel)",
   "language": "python",
   "name": "python3"
  },
  "language_info": {
   "codemirror_mode": {
    "name": "ipython",
    "version": 3
   },
   "file_extension": ".py",
   "mimetype": "text/x-python",
   "name": "python",
   "nbconvert_exporter": "python",
   "pygments_lexer": "ipython3",
   "version": "3.8.12"
  }
 },
 "nbformat": 4,
 "nbformat_minor": 5
}
